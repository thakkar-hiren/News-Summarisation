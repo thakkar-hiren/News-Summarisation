{
  "nbformat": 4,
  "nbformat_minor": 0,
  "metadata": {
    "colab": {
      "provenance": [],
      "authorship_tag": "ABX9TyPNA55yzqnXYFV98z82k1eK",
      "include_colab_link": true
    },
    "kernelspec": {
      "name": "python3",
      "display_name": "Python 3"
    },
    "language_info": {
      "name": "python"
    }
  },
  "cells": [
    {
      "cell_type": "markdown",
      "metadata": {
        "id": "view-in-github",
        "colab_type": "text"
      },
      "source": [
        "<a href=\"https://colab.research.google.com/github/thakkar-hiren/News-Summarisation/blob/main/5_News_Summary.ipynb\" target=\"_parent\"><img src=\"https://colab.research.google.com/assets/colab-badge.svg\" alt=\"Open In Colab\"/></a>"
      ]
    },
    {
      "cell_type": "markdown",
      "source": [
        "#Text Summarization Using GloVe Word Embeddings and TextRank Algorithm\n",
        "This file contains an implementation of text summarization using GloVe (Global Vectors for Word Representation) word embeddings and the TextRank algorithm. The process starts with loading a dataset containing news articles and preprocessed text. Pre-trained GloVe word vectors are then downloaded and loaded to capture semantic relationships between words. The text is tokenized into sentences, and each sentence is embedded into a continuous vector space using the GloVe word embeddings. Cosine similarity is utilized to construct a similarity matrix based on the sentence embeddings. The TextRank algorithm is employed to rank sentences based on their similarity scores, and the top-ranked sentences are selected to form the summary. The number of sentences in the summary is customizable, with options for generating summaries of 3 or 5 sentences. Additionally, the file includes evaluation functions to compute the average ROUGE (Recall-Oriented Understudy for Gisting Evaluation) scores, providing insights into the quality of the generated summaries. This implementation is suitable for tasks requiring extractive summarization and can be applied in various domains, including document summarization, text analysis, and information retrieval."
      ],
      "metadata": {
        "id": "cwq3SuODym-P"
      }
    },
    {
      "cell_type": "markdown",
      "source": [
        "# Mounting Drive"
      ],
      "metadata": {
        "id": "b6ILsMBdQE1f"
      }
    },
    {
      "cell_type": "code",
      "execution_count": null,
      "metadata": {
        "colab": {
          "base_uri": "https://localhost:8080/"
        },
        "id": "qoXxH6e9PV6o",
        "outputId": "9cd6dcd9-815f-45c8-9aab-29bb33d0d27d"
      },
      "outputs": [
        {
          "output_type": "stream",
          "name": "stdout",
          "text": [
            "Mounted at /content/drive\n"
          ]
        }
      ],
      "source": [
        "# Mounting Drive\n",
        "from google.colab import drive\n",
        "drive.mount('/content/drive')"
      ]
    },
    {
      "cell_type": "markdown",
      "source": [
        "# Loading Data"
      ],
      "metadata": {
        "id": "V1Aj5HchQfpn"
      }
    },
    {
      "cell_type": "code",
      "source": [
        "# Loading Dataset\n",
        "import pandas as pd\n",
        "news_data = pd.read_csv('/content/drive/MyDrive/Datasets/filtered_news_data.csv')\n",
        "news_data"
      ],
      "metadata": {
        "colab": {
          "base_uri": "https://localhost:8080/",
          "height": 1000
        },
        "id": "1p6LctUUQGvT",
        "outputId": "f7a43609-76a4-4514-c3be-86a178a2693e"
      },
      "execution_count": null,
      "outputs": [
        {
          "output_type": "execute_result",
          "data": {
            "text/plain": [
              "      Unnamed: 0                                               text  \\\n",
              "0              0  The Administration of Union Territory Daman an...   \n",
              "1              2  The Indira Gandhi Institute of Medical Science...   \n",
              "2              4  Hotels in Maharashtra will train their staff t...   \n",
              "3              5  A 32-year-old man on Wednesday was found hangi...   \n",
              "4              6  The Delhi High Court reduced the compensation ...   \n",
              "...          ...                                                ...   \n",
              "3911        4507  After emerging as the single largest party in ...   \n",
              "3912        4509  Fruit juice concentrate maker Rasna is eyeing ...   \n",
              "3913        4510  Former Indian cricketer Sachin Tendulkar atten...   \n",
              "3914        4512  The Maharashtra government has initiated an in...   \n",
              "3915        4513  At least 400 languages or more than half langu...   \n",
              "\n",
              "                                                  ctext  text_len  ctext_len  \\\n",
              "0     The Daman and Diu administration on Wednesday ...       358       2313   \n",
              "1     The Indira Gandhi Institute of Medical Science...       398       2112   \n",
              "2     Hotels in Mumbai and other Indian cities are t...       366       3249   \n",
              "3     An alleged suspect in a kidnapping case was fo...       347       2247   \n",
              "4     In an interesting ruling, the Delhi high court...       361       2367   \n",
              "...                                                 ...       ...        ...   \n",
              "3911  As uncertainty loomed large in the BMC polls d...       335        606   \n",
              "3912  Mumbai, Feb 23 (PTI) Fruit juice concentrate m...       361       1000   \n",
              "3913  Former cricketer Sachin Tendulkar was spotted ...       362        933   \n",
              "3914  Maharahstra Power Minister Chandrashekhar Bawa...       387       1397   \n",
              "3915  More than half of the languages spoken by Indi...       350       1608   \n",
              "\n",
              "      text_sent_count  text_word_count  ctext_sent_count  ctext_word_count  \\\n",
              "0                   2               62                16               413   \n",
              "1                   3               70                18               379   \n",
              "2                   3               67                 8               569   \n",
              "3                   3               63                23               440   \n",
              "4                   3               70                11               444   \n",
              "...               ...              ...               ...               ...   \n",
              "3911                3               66                 1               115   \n",
              "3912                3               70                 8               200   \n",
              "3913                2               63                 3               158   \n",
              "3914                3               63                 9               233   \n",
              "3915                2               72                 6               297   \n",
              "\n",
              "                                      preprocessed_text  \\\n",
              "0     the administration of union territory daman an...   \n",
              "1     the indira gandhi institute of medical science...   \n",
              "2     hotels in maharashtra will train their staff t...   \n",
              "3     a 32yearold man on wednesday was found hanging...   \n",
              "4     the delhi high court reduced the compensation ...   \n",
              "...                                                 ...   \n",
              "3911  after emerging as the single largest party in ...   \n",
              "3912  fruit juice concentrate maker rasna is eyeing ...   \n",
              "3913  former indian cricketer sachin tendulkar atten...   \n",
              "3914  the maharashtra government has initiated an in...   \n",
              "3915  at least 400 languages or more than half langu...   \n",
              "\n",
              "                                     preprocessed_ctext  \n",
              "0     the daman and diu administration on wednesday ...  \n",
              "1     the indira gandhi institute of medical science...  \n",
              "2     hotels in mumbai and other indian cities are t...  \n",
              "3     an alleged suspect in a kidnapping case was fo...  \n",
              "4     in an interesting ruling the delhi high court ...  \n",
              "...                                                 ...  \n",
              "3911  as uncertainty loomed large in the bmc polls d...  \n",
              "3912  mumbai feb 23 pti fruit juice concentrate make...  \n",
              "3913  former cricketer sachin tendulkar was spotted ...  \n",
              "3914  maharahstra power minister chandrashekhar bawa...  \n",
              "3915  more than half of the languages spoken by indi...  \n",
              "\n",
              "[3916 rows x 11 columns]"
            ],
            "text/html": [
              "\n",
              "  <div id=\"df-a4ebc705-e4d5-4d66-9b5d-1e9ff2277322\" class=\"colab-df-container\">\n",
              "    <div>\n",
              "<style scoped>\n",
              "    .dataframe tbody tr th:only-of-type {\n",
              "        vertical-align: middle;\n",
              "    }\n",
              "\n",
              "    .dataframe tbody tr th {\n",
              "        vertical-align: top;\n",
              "    }\n",
              "\n",
              "    .dataframe thead th {\n",
              "        text-align: right;\n",
              "    }\n",
              "</style>\n",
              "<table border=\"1\" class=\"dataframe\">\n",
              "  <thead>\n",
              "    <tr style=\"text-align: right;\">\n",
              "      <th></th>\n",
              "      <th>Unnamed: 0</th>\n",
              "      <th>text</th>\n",
              "      <th>ctext</th>\n",
              "      <th>text_len</th>\n",
              "      <th>ctext_len</th>\n",
              "      <th>text_sent_count</th>\n",
              "      <th>text_word_count</th>\n",
              "      <th>ctext_sent_count</th>\n",
              "      <th>ctext_word_count</th>\n",
              "      <th>preprocessed_text</th>\n",
              "      <th>preprocessed_ctext</th>\n",
              "    </tr>\n",
              "  </thead>\n",
              "  <tbody>\n",
              "    <tr>\n",
              "      <th>0</th>\n",
              "      <td>0</td>\n",
              "      <td>The Administration of Union Territory Daman an...</td>\n",
              "      <td>The Daman and Diu administration on Wednesday ...</td>\n",
              "      <td>358</td>\n",
              "      <td>2313</td>\n",
              "      <td>2</td>\n",
              "      <td>62</td>\n",
              "      <td>16</td>\n",
              "      <td>413</td>\n",
              "      <td>the administration of union territory daman an...</td>\n",
              "      <td>the daman and diu administration on wednesday ...</td>\n",
              "    </tr>\n",
              "    <tr>\n",
              "      <th>1</th>\n",
              "      <td>2</td>\n",
              "      <td>The Indira Gandhi Institute of Medical Science...</td>\n",
              "      <td>The Indira Gandhi Institute of Medical Science...</td>\n",
              "      <td>398</td>\n",
              "      <td>2112</td>\n",
              "      <td>3</td>\n",
              "      <td>70</td>\n",
              "      <td>18</td>\n",
              "      <td>379</td>\n",
              "      <td>the indira gandhi institute of medical science...</td>\n",
              "      <td>the indira gandhi institute of medical science...</td>\n",
              "    </tr>\n",
              "    <tr>\n",
              "      <th>2</th>\n",
              "      <td>4</td>\n",
              "      <td>Hotels in Maharashtra will train their staff t...</td>\n",
              "      <td>Hotels in Mumbai and other Indian cities are t...</td>\n",
              "      <td>366</td>\n",
              "      <td>3249</td>\n",
              "      <td>3</td>\n",
              "      <td>67</td>\n",
              "      <td>8</td>\n",
              "      <td>569</td>\n",
              "      <td>hotels in maharashtra will train their staff t...</td>\n",
              "      <td>hotels in mumbai and other indian cities are t...</td>\n",
              "    </tr>\n",
              "    <tr>\n",
              "      <th>3</th>\n",
              "      <td>5</td>\n",
              "      <td>A 32-year-old man on Wednesday was found hangi...</td>\n",
              "      <td>An alleged suspect in a kidnapping case was fo...</td>\n",
              "      <td>347</td>\n",
              "      <td>2247</td>\n",
              "      <td>3</td>\n",
              "      <td>63</td>\n",
              "      <td>23</td>\n",
              "      <td>440</td>\n",
              "      <td>a 32yearold man on wednesday was found hanging...</td>\n",
              "      <td>an alleged suspect in a kidnapping case was fo...</td>\n",
              "    </tr>\n",
              "    <tr>\n",
              "      <th>4</th>\n",
              "      <td>6</td>\n",
              "      <td>The Delhi High Court reduced the compensation ...</td>\n",
              "      <td>In an interesting ruling, the Delhi high court...</td>\n",
              "      <td>361</td>\n",
              "      <td>2367</td>\n",
              "      <td>3</td>\n",
              "      <td>70</td>\n",
              "      <td>11</td>\n",
              "      <td>444</td>\n",
              "      <td>the delhi high court reduced the compensation ...</td>\n",
              "      <td>in an interesting ruling the delhi high court ...</td>\n",
              "    </tr>\n",
              "    <tr>\n",
              "      <th>...</th>\n",
              "      <td>...</td>\n",
              "      <td>...</td>\n",
              "      <td>...</td>\n",
              "      <td>...</td>\n",
              "      <td>...</td>\n",
              "      <td>...</td>\n",
              "      <td>...</td>\n",
              "      <td>...</td>\n",
              "      <td>...</td>\n",
              "      <td>...</td>\n",
              "      <td>...</td>\n",
              "    </tr>\n",
              "    <tr>\n",
              "      <th>3911</th>\n",
              "      <td>4507</td>\n",
              "      <td>After emerging as the single largest party in ...</td>\n",
              "      <td>As uncertainty loomed large in the BMC polls d...</td>\n",
              "      <td>335</td>\n",
              "      <td>606</td>\n",
              "      <td>3</td>\n",
              "      <td>66</td>\n",
              "      <td>1</td>\n",
              "      <td>115</td>\n",
              "      <td>after emerging as the single largest party in ...</td>\n",
              "      <td>as uncertainty loomed large in the bmc polls d...</td>\n",
              "    </tr>\n",
              "    <tr>\n",
              "      <th>3912</th>\n",
              "      <td>4509</td>\n",
              "      <td>Fruit juice concentrate maker Rasna is eyeing ...</td>\n",
              "      <td>Mumbai, Feb 23 (PTI) Fruit juice concentrate m...</td>\n",
              "      <td>361</td>\n",
              "      <td>1000</td>\n",
              "      <td>3</td>\n",
              "      <td>70</td>\n",
              "      <td>8</td>\n",
              "      <td>200</td>\n",
              "      <td>fruit juice concentrate maker rasna is eyeing ...</td>\n",
              "      <td>mumbai feb 23 pti fruit juice concentrate make...</td>\n",
              "    </tr>\n",
              "    <tr>\n",
              "      <th>3913</th>\n",
              "      <td>4510</td>\n",
              "      <td>Former Indian cricketer Sachin Tendulkar atten...</td>\n",
              "      <td>Former cricketer Sachin Tendulkar was spotted ...</td>\n",
              "      <td>362</td>\n",
              "      <td>933</td>\n",
              "      <td>2</td>\n",
              "      <td>63</td>\n",
              "      <td>3</td>\n",
              "      <td>158</td>\n",
              "      <td>former indian cricketer sachin tendulkar atten...</td>\n",
              "      <td>former cricketer sachin tendulkar was spotted ...</td>\n",
              "    </tr>\n",
              "    <tr>\n",
              "      <th>3914</th>\n",
              "      <td>4512</td>\n",
              "      <td>The Maharashtra government has initiated an in...</td>\n",
              "      <td>Maharahstra Power Minister Chandrashekhar Bawa...</td>\n",
              "      <td>387</td>\n",
              "      <td>1397</td>\n",
              "      <td>3</td>\n",
              "      <td>63</td>\n",
              "      <td>9</td>\n",
              "      <td>233</td>\n",
              "      <td>the maharashtra government has initiated an in...</td>\n",
              "      <td>maharahstra power minister chandrashekhar bawa...</td>\n",
              "    </tr>\n",
              "    <tr>\n",
              "      <th>3915</th>\n",
              "      <td>4513</td>\n",
              "      <td>At least 400 languages or more than half langu...</td>\n",
              "      <td>More than half of the languages spoken by Indi...</td>\n",
              "      <td>350</td>\n",
              "      <td>1608</td>\n",
              "      <td>2</td>\n",
              "      <td>72</td>\n",
              "      <td>6</td>\n",
              "      <td>297</td>\n",
              "      <td>at least 400 languages or more than half langu...</td>\n",
              "      <td>more than half of the languages spoken by indi...</td>\n",
              "    </tr>\n",
              "  </tbody>\n",
              "</table>\n",
              "<p>3916 rows × 11 columns</p>\n",
              "</div>\n",
              "    <div class=\"colab-df-buttons\">\n",
              "\n",
              "  <div class=\"colab-df-container\">\n",
              "    <button class=\"colab-df-convert\" onclick=\"convertToInteractive('df-a4ebc705-e4d5-4d66-9b5d-1e9ff2277322')\"\n",
              "            title=\"Convert this dataframe to an interactive table.\"\n",
              "            style=\"display:none;\">\n",
              "\n",
              "  <svg xmlns=\"http://www.w3.org/2000/svg\" height=\"24px\" viewBox=\"0 -960 960 960\">\n",
              "    <path d=\"M120-120v-720h720v720H120Zm60-500h600v-160H180v160Zm220 220h160v-160H400v160Zm0 220h160v-160H400v160ZM180-400h160v-160H180v160Zm440 0h160v-160H620v160ZM180-180h160v-160H180v160Zm440 0h160v-160H620v160Z\"/>\n",
              "  </svg>\n",
              "    </button>\n",
              "\n",
              "  <style>\n",
              "    .colab-df-container {\n",
              "      display:flex;\n",
              "      gap: 12px;\n",
              "    }\n",
              "\n",
              "    .colab-df-convert {\n",
              "      background-color: #E8F0FE;\n",
              "      border: none;\n",
              "      border-radius: 50%;\n",
              "      cursor: pointer;\n",
              "      display: none;\n",
              "      fill: #1967D2;\n",
              "      height: 32px;\n",
              "      padding: 0 0 0 0;\n",
              "      width: 32px;\n",
              "    }\n",
              "\n",
              "    .colab-df-convert:hover {\n",
              "      background-color: #E2EBFA;\n",
              "      box-shadow: 0px 1px 2px rgba(60, 64, 67, 0.3), 0px 1px 3px 1px rgba(60, 64, 67, 0.15);\n",
              "      fill: #174EA6;\n",
              "    }\n",
              "\n",
              "    .colab-df-buttons div {\n",
              "      margin-bottom: 4px;\n",
              "    }\n",
              "\n",
              "    [theme=dark] .colab-df-convert {\n",
              "      background-color: #3B4455;\n",
              "      fill: #D2E3FC;\n",
              "    }\n",
              "\n",
              "    [theme=dark] .colab-df-convert:hover {\n",
              "      background-color: #434B5C;\n",
              "      box-shadow: 0px 1px 3px 1px rgba(0, 0, 0, 0.15);\n",
              "      filter: drop-shadow(0px 1px 2px rgba(0, 0, 0, 0.3));\n",
              "      fill: #FFFFFF;\n",
              "    }\n",
              "  </style>\n",
              "\n",
              "    <script>\n",
              "      const buttonEl =\n",
              "        document.querySelector('#df-a4ebc705-e4d5-4d66-9b5d-1e9ff2277322 button.colab-df-convert');\n",
              "      buttonEl.style.display =\n",
              "        google.colab.kernel.accessAllowed ? 'block' : 'none';\n",
              "\n",
              "      async function convertToInteractive(key) {\n",
              "        const element = document.querySelector('#df-a4ebc705-e4d5-4d66-9b5d-1e9ff2277322');\n",
              "        const dataTable =\n",
              "          await google.colab.kernel.invokeFunction('convertToInteractive',\n",
              "                                                    [key], {});\n",
              "        if (!dataTable) return;\n",
              "\n",
              "        const docLinkHtml = 'Like what you see? Visit the ' +\n",
              "          '<a target=\"_blank\" href=https://colab.research.google.com/notebooks/data_table.ipynb>data table notebook</a>'\n",
              "          + ' to learn more about interactive tables.';\n",
              "        element.innerHTML = '';\n",
              "        dataTable['output_type'] = 'display_data';\n",
              "        await google.colab.output.renderOutput(dataTable, element);\n",
              "        const docLink = document.createElement('div');\n",
              "        docLink.innerHTML = docLinkHtml;\n",
              "        element.appendChild(docLink);\n",
              "      }\n",
              "    </script>\n",
              "  </div>\n",
              "\n",
              "\n",
              "<div id=\"df-7ca48132-8885-4ad0-afc6-20d9110b8b00\">\n",
              "  <button class=\"colab-df-quickchart\" onclick=\"quickchart('df-7ca48132-8885-4ad0-afc6-20d9110b8b00')\"\n",
              "            title=\"Suggest charts\"\n",
              "            style=\"display:none;\">\n",
              "\n",
              "<svg xmlns=\"http://www.w3.org/2000/svg\" height=\"24px\"viewBox=\"0 0 24 24\"\n",
              "     width=\"24px\">\n",
              "    <g>\n",
              "        <path d=\"M19 3H5c-1.1 0-2 .9-2 2v14c0 1.1.9 2 2 2h14c1.1 0 2-.9 2-2V5c0-1.1-.9-2-2-2zM9 17H7v-7h2v7zm4 0h-2V7h2v10zm4 0h-2v-4h2v4z\"/>\n",
              "    </g>\n",
              "</svg>\n",
              "  </button>\n",
              "\n",
              "<style>\n",
              "  .colab-df-quickchart {\n",
              "      --bg-color: #E8F0FE;\n",
              "      --fill-color: #1967D2;\n",
              "      --hover-bg-color: #E2EBFA;\n",
              "      --hover-fill-color: #174EA6;\n",
              "      --disabled-fill-color: #AAA;\n",
              "      --disabled-bg-color: #DDD;\n",
              "  }\n",
              "\n",
              "  [theme=dark] .colab-df-quickchart {\n",
              "      --bg-color: #3B4455;\n",
              "      --fill-color: #D2E3FC;\n",
              "      --hover-bg-color: #434B5C;\n",
              "      --hover-fill-color: #FFFFFF;\n",
              "      --disabled-bg-color: #3B4455;\n",
              "      --disabled-fill-color: #666;\n",
              "  }\n",
              "\n",
              "  .colab-df-quickchart {\n",
              "    background-color: var(--bg-color);\n",
              "    border: none;\n",
              "    border-radius: 50%;\n",
              "    cursor: pointer;\n",
              "    display: none;\n",
              "    fill: var(--fill-color);\n",
              "    height: 32px;\n",
              "    padding: 0;\n",
              "    width: 32px;\n",
              "  }\n",
              "\n",
              "  .colab-df-quickchart:hover {\n",
              "    background-color: var(--hover-bg-color);\n",
              "    box-shadow: 0 1px 2px rgba(60, 64, 67, 0.3), 0 1px 3px 1px rgba(60, 64, 67, 0.15);\n",
              "    fill: var(--button-hover-fill-color);\n",
              "  }\n",
              "\n",
              "  .colab-df-quickchart-complete:disabled,\n",
              "  .colab-df-quickchart-complete:disabled:hover {\n",
              "    background-color: var(--disabled-bg-color);\n",
              "    fill: var(--disabled-fill-color);\n",
              "    box-shadow: none;\n",
              "  }\n",
              "\n",
              "  .colab-df-spinner {\n",
              "    border: 2px solid var(--fill-color);\n",
              "    border-color: transparent;\n",
              "    border-bottom-color: var(--fill-color);\n",
              "    animation:\n",
              "      spin 1s steps(1) infinite;\n",
              "  }\n",
              "\n",
              "  @keyframes spin {\n",
              "    0% {\n",
              "      border-color: transparent;\n",
              "      border-bottom-color: var(--fill-color);\n",
              "      border-left-color: var(--fill-color);\n",
              "    }\n",
              "    20% {\n",
              "      border-color: transparent;\n",
              "      border-left-color: var(--fill-color);\n",
              "      border-top-color: var(--fill-color);\n",
              "    }\n",
              "    30% {\n",
              "      border-color: transparent;\n",
              "      border-left-color: var(--fill-color);\n",
              "      border-top-color: var(--fill-color);\n",
              "      border-right-color: var(--fill-color);\n",
              "    }\n",
              "    40% {\n",
              "      border-color: transparent;\n",
              "      border-right-color: var(--fill-color);\n",
              "      border-top-color: var(--fill-color);\n",
              "    }\n",
              "    60% {\n",
              "      border-color: transparent;\n",
              "      border-right-color: var(--fill-color);\n",
              "    }\n",
              "    80% {\n",
              "      border-color: transparent;\n",
              "      border-right-color: var(--fill-color);\n",
              "      border-bottom-color: var(--fill-color);\n",
              "    }\n",
              "    90% {\n",
              "      border-color: transparent;\n",
              "      border-bottom-color: var(--fill-color);\n",
              "    }\n",
              "  }\n",
              "</style>\n",
              "\n",
              "  <script>\n",
              "    async function quickchart(key) {\n",
              "      const quickchartButtonEl =\n",
              "        document.querySelector('#' + key + ' button');\n",
              "      quickchartButtonEl.disabled = true;  // To prevent multiple clicks.\n",
              "      quickchartButtonEl.classList.add('colab-df-spinner');\n",
              "      try {\n",
              "        const charts = await google.colab.kernel.invokeFunction(\n",
              "            'suggestCharts', [key], {});\n",
              "      } catch (error) {\n",
              "        console.error('Error during call to suggestCharts:', error);\n",
              "      }\n",
              "      quickchartButtonEl.classList.remove('colab-df-spinner');\n",
              "      quickchartButtonEl.classList.add('colab-df-quickchart-complete');\n",
              "    }\n",
              "    (() => {\n",
              "      let quickchartButtonEl =\n",
              "        document.querySelector('#df-7ca48132-8885-4ad0-afc6-20d9110b8b00 button');\n",
              "      quickchartButtonEl.style.display =\n",
              "        google.colab.kernel.accessAllowed ? 'block' : 'none';\n",
              "    })();\n",
              "  </script>\n",
              "</div>\n",
              "\n",
              "  <div id=\"id_a1f1cb08-da24-4921-909e-9526be01cae0\">\n",
              "    <style>\n",
              "      .colab-df-generate {\n",
              "        background-color: #E8F0FE;\n",
              "        border: none;\n",
              "        border-radius: 50%;\n",
              "        cursor: pointer;\n",
              "        display: none;\n",
              "        fill: #1967D2;\n",
              "        height: 32px;\n",
              "        padding: 0 0 0 0;\n",
              "        width: 32px;\n",
              "      }\n",
              "\n",
              "      .colab-df-generate:hover {\n",
              "        background-color: #E2EBFA;\n",
              "        box-shadow: 0px 1px 2px rgba(60, 64, 67, 0.3), 0px 1px 3px 1px rgba(60, 64, 67, 0.15);\n",
              "        fill: #174EA6;\n",
              "      }\n",
              "\n",
              "      [theme=dark] .colab-df-generate {\n",
              "        background-color: #3B4455;\n",
              "        fill: #D2E3FC;\n",
              "      }\n",
              "\n",
              "      [theme=dark] .colab-df-generate:hover {\n",
              "        background-color: #434B5C;\n",
              "        box-shadow: 0px 1px 3px 1px rgba(0, 0, 0, 0.15);\n",
              "        filter: drop-shadow(0px 1px 2px rgba(0, 0, 0, 0.3));\n",
              "        fill: #FFFFFF;\n",
              "      }\n",
              "    </style>\n",
              "    <button class=\"colab-df-generate\" onclick=\"generateWithVariable('news_data')\"\n",
              "            title=\"Generate code using this dataframe.\"\n",
              "            style=\"display:none;\">\n",
              "\n",
              "  <svg xmlns=\"http://www.w3.org/2000/svg\" height=\"24px\"viewBox=\"0 0 24 24\"\n",
              "       width=\"24px\">\n",
              "    <path d=\"M7,19H8.4L18.45,9,17,7.55,7,17.6ZM5,21V16.75L18.45,3.32a2,2,0,0,1,2.83,0l1.4,1.43a1.91,1.91,0,0,1,.58,1.4,1.91,1.91,0,0,1-.58,1.4L9.25,21ZM18.45,9,17,7.55Zm-12,3A5.31,5.31,0,0,0,4.9,8.1,5.31,5.31,0,0,0,1,6.5,5.31,5.31,0,0,0,4.9,4.9,5.31,5.31,0,0,0,6.5,1,5.31,5.31,0,0,0,8.1,4.9,5.31,5.31,0,0,0,12,6.5,5.46,5.46,0,0,0,6.5,12Z\"/>\n",
              "  </svg>\n",
              "    </button>\n",
              "    <script>\n",
              "      (() => {\n",
              "      const buttonEl =\n",
              "        document.querySelector('#id_a1f1cb08-da24-4921-909e-9526be01cae0 button.colab-df-generate');\n",
              "      buttonEl.style.display =\n",
              "        google.colab.kernel.accessAllowed ? 'block' : 'none';\n",
              "\n",
              "      buttonEl.onclick = () => {\n",
              "        google.colab.notebook.generateWithVariable('news_data');\n",
              "      }\n",
              "      })();\n",
              "    </script>\n",
              "  </div>\n",
              "\n",
              "    </div>\n",
              "  </div>\n"
            ],
            "application/vnd.google.colaboratory.intrinsic+json": {
              "type": "dataframe",
              "variable_name": "news_data",
              "summary": "{\n  \"name\": \"news_data\",\n  \"rows\": 3916,\n  \"fields\": [\n    {\n      \"column\": \"Unnamed: 0\",\n      \"properties\": {\n        \"dtype\": \"number\",\n        \"std\": 1297,\n        \"min\": 0,\n        \"max\": 4513,\n        \"samples\": [\n          328,\n          2299,\n          950\n        ],\n        \"num_unique_values\": 3916,\n        \"semantic_type\": \"\",\n        \"description\": \"\"\n      }\n    },\n    {\n      \"column\": \"text\",\n      \"properties\": {\n        \"dtype\": \"string\",\n        \"samples\": [\n          \"Bengaluru was ranked 40th on Dell's annual Women Entrepreneur (WE) Cities Index of the world's top 50 cities that foster the growth of women entrepreneurs. New York topped the list, followed by Bay Area, London, and Boston. The study ranked cities based on the impact of local policies, programmes, and characteristics in addition to national laws and customs.\",\n          \"Indian boxer Vijender Singh's next opponent China's Zulpikar Maimaitiali has said that he is training for over 10 hours a day for the upcoming fight against the Indian. Maimaitiali, the WBO Oriental super middleweight champion, is aiming to hand Vijender the first defeat of his professional boxing career. The fight is scheduled to be held in Mumbai on August 5.\",\n          \"Opposition's Vice Presidential candidate and Mahatma Gandhi's grandson Gopalkrishna Gandhi on Tuesday expressed his stand against death penalty and capital punishments calling them as medieval practices. Gandhi said, \\\"Death penalty is wrong and this is my principle.\\\" Notably, Shiv Sena criticised him for a letter he wrote to the President in 2015, seeking clemency for a 1993 Mumbai blasts accused.\"\n        ],\n        \"num_unique_values\": 3916,\n        \"semantic_type\": \"\",\n        \"description\": \"\"\n      }\n    },\n    {\n      \"column\": \"ctext\",\n      \"properties\": {\n        \"dtype\": \"string\",\n        \"samples\": [\n          \"Virender Sehwag, who was accused of bullying Delhi University student Gurmehar Kaur, said his tweet wasn't intended for the 20-year-old.Sehwag, the only Indian to slam two triple hundreds in Test cricket, told India Today that the TWEET, which turned out to be rather controversial, was a sudden idea and it was not intended to hurt anyone. (Also read: Virender Sehwag, Randeep Hooda accused of bullying Kargil martyr's daughter who spoke against ABVP)\\\"My tweet wasn't intended for Gurmehar. It was plain fun but people construed the other way,\\\" he told India Today. Gurmehar, a student of the Lady Sri Ram College, stirred up a storm when her Facebook post on February 22 went viral.Gurmehar's post received mixed reactions but Sehwag's tweet drew widespread condemnation with some senior journalists accusing him of bullying a young student. Sehwag, known for his wit and candour on social media, tweeted this to express his difference with Gurmehar. Bat me hai Dum !#BharatJaisiJagahNahipic.twitter.com/BNaO1LBHLHActor Randeep Hooda retweeted it and also faced some backlash. However, he later clarfied that he was only laughing at a joke Sehwag had cracked but he condemned the alleged rape threats made to the 20-year-old student. \",\n          \"Pitching for Aam Aadmi Party?s victory in the upcoming municipal elections, Delhi chief minister Arvind Kejriwal said if his party comes to power in MCD then they will make Delhi comparable to London.Addressing a gathering at Uttam Nagar, Kejriwal said the BJP-ruled municipal bodies have not been able to keep Delhi clean.The dates for MCD elections are yet to be announced.?Last time you gave us 67 seats but this time don?t even leave the 3 seats. If we win MCD once, we will change Delhi so much in one year that you will compare Delhi to London,? he said.The CM said that people have the misconception that Delhi is not clean due to AAP government?s failure. ?Wherever I go, people have misconception that garbage is not being picked up and there is no cleaning because of Delhi government. It is not our but MCD?s responsibility,? he said.Kejriwal said the BJP and Congress have been leading the municipal bodies for the last 20 years without doing anything.?They have looted MCD. MCD collects so much money from house tax, hoarding, parking. Last year, Delhi government gave them Rs 2,800 crore. But where is all this money? Why is Delhi not being cleaned? They make the same road thrice on paper and eat all the money,? he said.Kejriwal said his government has been able to do many things in the last two years which the BJP-run governments in Madhya Pradesh and Chhattisgarh have not been able to do in the last 10-15 years.?Before we came to power, the Delhi government had a policy of doing development activity in regularised colonies only. But we changed it. We said it doesn?t matter if the colony is regularised or not, people living there are humans and they need water, sewer, power, and road,? he said.Meanwhile, Congress workers led by former Uttam Nagar legislator Mukesh Sharma protested near the venue where Kejriwal was addressing the gathering. As they tried to show black flags, police stopped the protesters from reaching near the crowd. The protesters then burnt effigy of Kejriwal accusing the AAP government of ?cheating the city residents?. ?All these inaugurations are an eyewash. Incomplete sewer work is being inaugurated just because of the MCD polls. I got the sewerage work started in the area during my tenure,? Sharma said.\",\n          \"Pune, Jul 4 (PTI) Slamming the BJP for the Goods and Services Tax (GST) rollout, senior Congress leader Digvijaya Singh today said the new tax system would not succeed and it would give rise to inflation as well as confusion. \\\"We were in favour of one slab of tax, that is 18 per cent and simple compliance procedure. However, the present structure of the GST they have created, it is certainly going to be an unsuccessful enterprise,\\\" he told reporters here. \\\"Revenue secretary Hasmukh Adhia is an honest man, but they are trying to implement the GST through impractical ways and with this kind of implementation, confusion will be created, which will initially give rise to inflation in the country....The GST will not be successful,\\\" he said. Singh was in the city after visiting Pandharpur in Solapur district in Maharashtra, where lakhs of devotees throng on the occasion of Ashadhi Ekadashi celebrated today. The former Madhya Pradesh chief minister also slammed the ruling BJP saying when it was in the opposition, the party had said that the GST will not be successful in the country, whereas it is now labelling the move as \\\"revolutionary\\\". \\\"Celebrations took place at midnight as if the country has got second freedom,\\\" Singh said. He added that the countries where the GST has become successful, have chosen a single tax slab structure. \\\"PM Modi is saying that it is good and simple tax, but it is not a reality. There are six slabs and petrol and liquor have been kept out of the GST and filing of tax returns have been made so complicated,\\\" he said. \\\"Previously, taxpayers used to file tax returns only four times, but now the same taxpayer will have to file tax 37 times and firms will have to appoint chartered accountants on a permanent basis,\\\" said Singh. \\\"The way demonetisation was implemented without printing of new notes, the same way they have now rolled out the GST without any preparation, as so far the returns formats are not available, there is a lack of infrastructure, such as internet connectivity, in remote areas,\\\" he alleged. Taking a dig at the prime minister, the Congress general secretary said, \\\"Modiji said that in order to eradicate black money, they have brought the GST, but alcohol which is the main source of black money, have been kept out of the GST.\\\" Accusing the BJP and RSS for inciting violence and creating a communal rift in the society, Singh alleged that \\\"targeted lynching\\\" of Muslims is the dangerous thing for the country. \\\"Modi tweets over small issues, but he did not tweet about the farmers, who were killed in firing in Madhya Pradesh. We want a prime minister, who does not have 56 inch chest, but who has a 56 inch heart,\\\" Singh said. Talking about Bihar Chief Minister Nitish Kumar supporting NDAs presidential nominee Ram Nath Kovind, the Congress leader said it was Kumar, who had fist pushed for the the unified oppositions candidate, although he later supported Kovind. While speaking on farmers condition in the country, Singh said demonetisation hit farmers in a big way. \\\"In Maharashtra, the state government announced the farm loan waiver. However, some farmers told me that the government has put a condition that farmers have to clear their outstanding loan, only after which they will get the loan waiver up to Rs 1.5 lakh,\\\" he said. \"\n        ],\n        \"num_unique_values\": 3878,\n        \"semantic_type\": \"\",\n        \"description\": \"\"\n      }\n    },\n    {\n      \"column\": \"text_len\",\n      \"properties\": {\n        \"dtype\": \"number\",\n        \"std\": 24,\n        \"min\": 282,\n        \"max\": 400,\n        \"samples\": [\n          352,\n          361,\n          397\n        ],\n        \"num_unique_values\": 117,\n        \"semantic_type\": \"\",\n        \"description\": \"\"\n      }\n    },\n    {\n      \"column\": \"ctext_len\",\n      \"properties\": {\n        \"dtype\": \"number\",\n        \"std\": 899,\n        \"min\": 4,\n        \"max\": 4792,\n        \"samples\": [\n          1046,\n          3359,\n          2600\n        ],\n        \"num_unique_values\": 2234,\n        \"semantic_type\": \"\",\n        \"description\": \"\"\n      }\n    },\n    {\n      \"column\": \"text_sent_count\",\n      \"properties\": {\n        \"dtype\": \"number\",\n        \"std\": 0,\n        \"min\": 2,\n        \"max\": 5,\n        \"samples\": [\n          3,\n          4,\n          2\n        ],\n        \"num_unique_values\": 4,\n        \"semantic_type\": \"\",\n        \"description\": \"\"\n      }\n    },\n    {\n      \"column\": \"text_word_count\",\n      \"properties\": {\n        \"dtype\": \"number\",\n        \"std\": 3,\n        \"min\": 52,\n        \"max\": 74,\n        \"samples\": [\n          74,\n          57,\n          62\n        ],\n        \"num_unique_values\": 23,\n        \"semantic_type\": \"\",\n        \"description\": \"\"\n      }\n    },\n    {\n      \"column\": \"ctext_sent_count\",\n      \"properties\": {\n        \"dtype\": \"number\",\n        \"std\": 7,\n        \"min\": 1,\n        \"max\": 35,\n        \"samples\": [\n          20,\n          5,\n          26\n        ],\n        \"num_unique_values\": 35,\n        \"semantic_type\": \"\",\n        \"description\": \"\"\n      }\n    },\n    {\n      \"column\": \"ctext_word_count\",\n      \"properties\": {\n        \"dtype\": \"number\",\n        \"std\": 168,\n        \"min\": 1,\n        \"max\": 850,\n        \"samples\": [\n          688,\n          575,\n          254\n        ],\n        \"num_unique_values\": 734,\n        \"semantic_type\": \"\",\n        \"description\": \"\"\n      }\n    },\n    {\n      \"column\": \"preprocessed_text\",\n      \"properties\": {\n        \"dtype\": \"string\",\n        \"samples\": [\n          \"bengaluru was ranked 40th on dells annual women entrepreneur we cities index of the worlds top 50 cities that foster the growth of women entrepreneurs . new york topped the list followed by bay area london and boston . the study ranked cities based on the impact of local policies programmes and characteristics in addition to national laws and customs .\",\n          \"indian boxer vijender singhs next opponent chinas zulpikar maimaitiali has said that he is training for over 10 hours a day for the upcoming fight against the indian . maimaitiali the wbo oriental super middleweight champion is aiming to hand vijender the first defeat of his professional boxing career . the fight is scheduled to be held in mumbai on august 5 .\",\n          \"oppositions vice presidential candidate and mahatma gandhis grandson gopalkrishna gandhi on tuesday expressed his stand against death penalty and capital punishments calling them as medieval practices . gandhi said death penalty is wrong and this is my principle . notably shiv sena criticised him for a letter he wrote to the president in 2015 seeking clemency for a 1993 mumbai blasts accused .\"\n        ],\n        \"num_unique_values\": 3916,\n        \"semantic_type\": \"\",\n        \"description\": \"\"\n      }\n    },\n    {\n      \"column\": \"preprocessed_ctext\",\n      \"properties\": {\n        \"dtype\": \"string\",\n        \"samples\": [\n          \"virender sehwag who was accused of bullying delhi university student gurmehar kaur said his tweet wasnt intended for the 20yearold . sehwag the only indian to slam two triple hundreds in test cricket told india today that the tweet which turned out to be rather controversial was a sudden idea and it was not intended to hurt anyone . also read virender sehwag randeep hooda accused of bullying kargil martyrs daughter who spoke against abvpmy tweet wasnt intended for gurmehar . it was plain fun but people construed the other way he told india today . gurmehar a student of the lady sri ram college stirred up a storm when her facebook post on february 22 went viral . gurmehars post received mixed reactions but sehwags tweet drew widespread condemnation with some senior journalists accusing him of bullying a young student . sehwag known for his wit and candour on social media tweeted this to express his difference with gurmehar . bat me hai dum bharatjaisijagahnahipic . twitter . combnao1lbhlhactor randeep hooda retweeted it and also faced some backlash . however he later clarfied that he was only laughing at a joke sehwag had cracked but he condemned the alleged rape threats made to the 20yearold student .\",\n          \"pitching for aam aadmi partys victory in the upcoming municipal elections delhi chief minister arvind kejriwal said if his party comes to power in mcd then they will make delhi comparable to london . addressing a gathering at uttam nagar kejriwal said the bjpruled municipal bodies have not been able to keep delhi clean . the dates for mcd elections are yet to be announced . last time you gave us 67 seats but this time dont even leave the 3 seats . if we win mcd once we will change delhi so much in one year that you will compare delhi to london he said . the cm said that people have the misconception that delhi is not clean due to aap governments failure . wherever i go people have misconception that garbage is not being picked up and there is no cleaning because of delhi government . it is not our but mcds responsibility he said . kejriwal said the bjp and congress have been leading the municipal bodies for the last 20 years without doing anything . they have looted mcd . mcd collects so much money from house tax hoarding parking . last year delhi government gave them rs 2800 crore . but where is all this money why is delhi not being cleaned they make the same road thrice on paper and eat all the money he said . kejriwal said his government has been able to do many things in the last two years which the bjprun governments in madhya pradesh and chhattisgarh have not been able to do in the last 1015 years . before we came to power the delhi government had a policy of doing development activity in regularised colonies only . but we changed it . we said it doesnt matter if the colony is regularised or not people living there are humans and they need water sewer power and road he said . meanwhile congress workers led by former uttam nagar legislator mukesh sharma protested near the venue where kejriwal was addressing the gathering . as they tried to show black flags police stopped the protesters from reaching near the crowd . the protesters then burnt effigy of kejriwal accusing the aap government of cheating the city residents . all these inaugurations are an eyewash . incomplete sewer work is being inaugurated just because of the mcd polls . i got the sewerage work started in the area during my tenure sharma said .\",\n          \"pune jul 4 pti slamming the bjp for the goods and services tax gst rollout senior congress leader digvijaya singh today said the new tax system would not succeed and it would give rise to inflation as well as confusion . we were in favour of one slab of tax that is 18 per cent and simple compliance procedure . however the present structure of the gst they have created it is certainly going to be an unsuccessful enterprise he told reporters here . revenue secretary hasmukh adhia is an honest man but they are trying to implement the gst through impractical ways and with this kind of implementation confusion will be created which will initially give rise to inflation in the country . . . . the gst will not be successful he said . singh was in the city after visiting pandharpur in solapur district in maharashtra where lakhs of devotees throng on the occasion of ashadhi ekadashi celebrated today . the former madhya pradesh chief minister also slammed the ruling bjp saying when it was in the opposition the party had said that the gst will not be successful in the country whereas it is now labelling the move as revolutionary . celebrations took place at midnight as if the country has got second freedom singh said . he added that the countries where the gst has become successful have chosen a single tax slab structure . pm modi is saying that it is good and simple tax but it is not a reality . there are six slabs and petrol and liquor have been kept out of the gst and filing of tax returns have been made so complicated he said . previously taxpayers used to file tax returns only four times but now the same taxpayer will have to file tax 37 times and firms will have to appoint chartered accountants on a permanent basis said singh . the way demonetisation was implemented without printing of new notes the same way they have now rolled out the gst without any preparation as so far the returns formats are not available there is a lack of infrastructure such as internet connectivity in remote areas he alleged . taking a dig at the prime minister the congress general secretary said modiji said that in order to eradicate black money they have brought the gst but alcohol which is the main source of black money have been kept out of the gst . accusing the bjp and rss for inciting violence and creating a communal rift in the society singh alleged that targeted lynching of muslims is the dangerous thing for the country . modi tweets over small issues but he did not tweet about the farmers who were killed in firing in madhya pradesh . we want a prime minister who does not have 56 inch chest but who has a 56 inch heart singh said . talking about bihar chief minister nitish kumar supporting ndas presidential nominee ram nath kovind the congress leader said it was kumar who had fist pushed for the the unified oppositions candidate although he later supported kovind . while speaking on farmers condition in the country singh said demonetisation hit farmers in a big way . in maharashtra the state government announced the farm loan waiver . however some farmers told me that the government has put a condition that farmers have to clear their outstanding loan only after which they will get the loan waiver up to rs 1 . 5 lakh he said .\"\n        ],\n        \"num_unique_values\": 3878,\n        \"semantic_type\": \"\",\n        \"description\": \"\"\n      }\n    }\n  ]\n}"
            }
          },
          "metadata": {},
          "execution_count": 2
        }
      ]
    },
    {
      "cell_type": "markdown",
      "source": [
        "# Loading Pre-trained Glove Embeddings"
      ],
      "metadata": {
        "id": "ibE_Ypo8Qoic"
      }
    },
    {
      "cell_type": "code",
      "source": [
        "!wget https://downloads.cs.stanford.edu/nlp/data/glove.6B.zip\n",
        "!unzip -q glove.6B.zip"
      ],
      "metadata": {
        "colab": {
          "base_uri": "https://localhost:8080/"
        },
        "id": "3bRBTkEnQlbm",
        "outputId": "d958fe5c-4d73-4202-fd76-f3cb3a25cf10"
      },
      "execution_count": null,
      "outputs": [
        {
          "output_type": "stream",
          "name": "stdout",
          "text": [
            "--2024-02-19 07:28:12--  https://downloads.cs.stanford.edu/nlp/data/glove.6B.zip\n",
            "Resolving downloads.cs.stanford.edu (downloads.cs.stanford.edu)... 171.64.64.22\n",
            "Connecting to downloads.cs.stanford.edu (downloads.cs.stanford.edu)|171.64.64.22|:443... connected.\n",
            "HTTP request sent, awaiting response... 200 OK\n",
            "Length: 862182613 (822M) [application/zip]\n",
            "Saving to: ‘glove.6B.zip’\n",
            "\n",
            "glove.6B.zip        100%[===================>] 822.24M  5.01MB/s    in 2m 39s  \n",
            "\n",
            "2024-02-19 07:30:51 (5.17 MB/s) - ‘glove.6B.zip’ saved [862182613/862182613]\n",
            "\n"
          ]
        }
      ]
    },
    {
      "cell_type": "code",
      "source": [
        "# Load pre-trained GloVe word vectors\n",
        "from gensim.models import KeyedVectors\n",
        "\n",
        "glove_file_path = '/content/glove.6B.100d.txt'\n",
        "glove_model = KeyedVectors.load_word2vec_format(glove_file_path, binary=False, no_header=True)"
      ],
      "metadata": {
        "id": "6S6341XAQ-L5"
      },
      "execution_count": null,
      "outputs": []
    },
    {
      "cell_type": "code",
      "source": [
        "glove_model.vector_size"
      ],
      "metadata": {
        "colab": {
          "base_uri": "https://localhost:8080/"
        },
        "id": "tZF-2ClqV6nz",
        "outputId": "4995c12f-3224-48fd-e6c3-a215917090a4"
      },
      "execution_count": null,
      "outputs": [
        {
          "output_type": "execute_result",
          "data": {
            "text/plain": [
              "100"
            ]
          },
          "metadata": {},
          "execution_count": 11
        }
      ]
    },
    {
      "cell_type": "markdown",
      "source": [
        "# Building Model"
      ],
      "metadata": {
        "id": "B2PkgjbzwA0W"
      }
    },
    {
      "cell_type": "code",
      "source": [
        "# Importing important libraries\n",
        "\n",
        "import nltk\n",
        "import numpy as np\n",
        "from nltk.tokenize import word_tokenize, sent_tokenize\n",
        "from sklearn.metrics.pairwise import cosine_similarity\n",
        "\n",
        "nltk.download('punkt')"
      ],
      "metadata": {
        "colab": {
          "base_uri": "https://localhost:8080/"
        },
        "id": "XKToybChwHAl",
        "outputId": "dd34605d-2812-4904-b0e8-a0fb4c229b53"
      },
      "execution_count": null,
      "outputs": [
        {
          "output_type": "stream",
          "name": "stderr",
          "text": [
            "[nltk_data] Downloading package punkt to /root/nltk_data...\n",
            "[nltk_data]   Package punkt is already up-to-date!\n"
          ]
        },
        {
          "output_type": "execute_result",
          "data": {
            "text/plain": [
              "True"
            ]
          },
          "metadata": {},
          "execution_count": 15
        }
      ]
    },
    {
      "cell_type": "code",
      "source": [
        "# Tokenize function\n",
        "def tokenize_text(text):\n",
        "    return [word_tokenize(sent) for sent in sent_tokenize(text)]"
      ],
      "metadata": {
        "id": "rN5RGfiAzUR7"
      },
      "execution_count": null,
      "outputs": []
    },
    {
      "cell_type": "code",
      "source": [
        "# Sentence embedding function\n",
        "def sentence_embedding(sentence):\n",
        "    word_embeddings = [glove_model[word] for word in sentence if word in glove_model.key_to_index]\n",
        "    if len(word_embeddings) == 0:\n",
        "        return np.zeros(glove_model.vector_size)\n",
        "    return np.mean(word_embeddings, axis=0)"
      ],
      "metadata": {
        "id": "zuctshi-0gYD"
      },
      "execution_count": null,
      "outputs": []
    },
    {
      "cell_type": "code",
      "source": [
        "# Calculate similarity matrix based on sentence embeddings\n",
        "def cosine_similarity_matrix(embeddings):\n",
        "    similarity_matrix = cosine_similarity(embeddings, embeddings)\n",
        "    return similarity_matrix"
      ],
      "metadata": {
        "id": "87-5gKSI0649"
      },
      "execution_count": null,
      "outputs": []
    },
    {
      "cell_type": "code",
      "source": [
        "# TextRank function\n",
        "def textrank(similarity_matrix):\n",
        "    damping_factor = 0.85\n",
        "    n_iterations = 500\n",
        "    n_sentences = similarity_matrix.shape[0]\n",
        "    ranks = np.ones(n_sentences) / n_sentences  # Initialize page ranks\n",
        "\n",
        "    for _ in range(n_iterations):\n",
        "        new_ranks = (1 - damping_factor) / n_sentences + damping_factor * similarity_matrix.T.dot(ranks)\n",
        "        ranks = new_ranks\n",
        "    return ranks"
      ],
      "metadata": {
        "id": "9mzSwxzL0-qi"
      },
      "execution_count": null,
      "outputs": []
    },
    {
      "cell_type": "code",
      "source": [
        "# Summarization function\n",
        "def summarize_article(article_text, nos=3):\n",
        "    tokenized_sentences = tokenize_text(article_text)\n",
        "    sentence_embeddings = np.array([sentence_embedding(sentence) for sentence in tokenized_sentences])\n",
        "    similarity_matrix = cosine_similarity_matrix(sentence_embeddings)\n",
        "    ranks = textrank(similarity_matrix)\n",
        "\n",
        "    n_summary_sentences = min(nos, len(tokenized_sentences))\n",
        "    top_sentence_indices = ranks.argsort()[-n_summary_sentences:][::-1]\n",
        "    predicted_summary = \" \".join([\" \".join(tokenized_sentences[i]) for i in sorted(top_sentence_indices)])\n",
        "\n",
        "    return predicted_summary"
      ],
      "metadata": {
        "id": "8nxViXq31BhI"
      },
      "execution_count": null,
      "outputs": []
    },
    {
      "cell_type": "code",
      "source": [
        "# Apply summarization to each article\n",
        "news_data['predictedSummary_3'] = news_data['preprocessed_ctext'].apply(lambda x: summarize_article(x))"
      ],
      "metadata": {
        "id": "9UeWXY8T1FJH"
      },
      "execution_count": null,
      "outputs": []
    },
    {
      "cell_type": "code",
      "source": [
        "# Apply summarization to each article\n",
        "news_data['predictedSummary_5'] = news_data['preprocessed_ctext'].apply(lambda x: summarize_article(x,nos=5))"
      ],
      "metadata": {
        "id": "xRUZwI9V1Jy6"
      },
      "execution_count": null,
      "outputs": []
    },
    {
      "cell_type": "markdown",
      "source": [
        "# Model Evaluation"
      ],
      "metadata": {
        "id": "XbtW6xJU29N7"
      }
    },
    {
      "cell_type": "code",
      "source": [
        "!pip install rouge_score"
      ],
      "metadata": {
        "colab": {
          "base_uri": "https://localhost:8080/"
        },
        "id": "VHXbYKZT2RYf",
        "outputId": "468e688a-2ba1-4f80-b5c5-78a3bac0e6bb"
      },
      "execution_count": null,
      "outputs": [
        {
          "output_type": "stream",
          "name": "stdout",
          "text": [
            "Collecting rouge_score\n",
            "  Downloading rouge_score-0.1.2.tar.gz (17 kB)\n",
            "  Preparing metadata (setup.py) ... \u001b[?25l\u001b[?25hdone\n",
            "Requirement already satisfied: absl-py in /usr/local/lib/python3.10/dist-packages (from rouge_score) (1.4.0)\n",
            "Requirement already satisfied: nltk in /usr/local/lib/python3.10/dist-packages (from rouge_score) (3.8.1)\n",
            "Requirement already satisfied: numpy in /usr/local/lib/python3.10/dist-packages (from rouge_score) (1.25.2)\n",
            "Requirement already satisfied: six>=1.14.0 in /usr/local/lib/python3.10/dist-packages (from rouge_score) (1.16.0)\n",
            "Requirement already satisfied: click in /usr/local/lib/python3.10/dist-packages (from nltk->rouge_score) (8.1.7)\n",
            "Requirement already satisfied: joblib in /usr/local/lib/python3.10/dist-packages (from nltk->rouge_score) (1.3.2)\n",
            "Requirement already satisfied: regex>=2021.8.3 in /usr/local/lib/python3.10/dist-packages (from nltk->rouge_score) (2023.12.25)\n",
            "Requirement already satisfied: tqdm in /usr/local/lib/python3.10/dist-packages (from nltk->rouge_score) (4.66.2)\n",
            "Building wheels for collected packages: rouge_score\n",
            "  Building wheel for rouge_score (setup.py) ... \u001b[?25l\u001b[?25hdone\n",
            "  Created wheel for rouge_score: filename=rouge_score-0.1.2-py3-none-any.whl size=24933 sha256=74a05a4607490ac239fba286d97f34febda1282ee57f7858634e29a94530bac3\n",
            "  Stored in directory: /root/.cache/pip/wheels/5f/dd/89/461065a73be61a532ff8599a28e9beef17985c9e9c31e541b4\n",
            "Successfully built rouge_score\n",
            "Installing collected packages: rouge_score\n",
            "Successfully installed rouge_score-0.1.2\n"
          ]
        }
      ]
    },
    {
      "cell_type": "code",
      "source": [
        "# Model evaluation function\n",
        "from rouge_score import rouge_scorer\n",
        "\n",
        "def evaluate_summaries_3(news_data):\n",
        "    scorer = rouge_scorer.RougeScorer(rouge_types=['rouge1', 'rouge2', 'rougeL'])\n",
        "    rouge_scores = []\n",
        "\n",
        "    for idx, row in news_data.iterrows():\n",
        "        scores = scorer.score(target=row['preprocessed_text'], prediction=row['predictedSummary_3'])\n",
        "        rouge_scores.append(scores)\n",
        "\n",
        "    avg_rouge1_precision = np.mean([score['rouge1'].precision for score in rouge_scores])\n",
        "    avg_rouge1_recall = np.mean([score['rouge1'].recall for score in rouge_scores])\n",
        "    avg_rouge1_f1 = np.mean([score['rouge1'].fmeasure for score in rouge_scores])\n",
        "\n",
        "    avg_rouge2_precision = np.mean([score['rouge2'].precision for score in rouge_scores])\n",
        "    avg_rouge2_recall = np.mean([score['rouge2'].recall for score in rouge_scores])\n",
        "    avg_rouge2_f1 = np.mean([score['rouge2'].fmeasure for score in rouge_scores])\n",
        "\n",
        "    avg_rougeL_precision = np.mean([score['rougeL'].precision for score in rouge_scores])\n",
        "    avg_rougeL_recall = np.mean([score['rougeL'].recall for score in rouge_scores])\n",
        "    avg_rougeL_f1 = np.mean([score['rougeL'].fmeasure for score in rouge_scores])\n",
        "\n",
        "    print(\"Average ROUGE-1 Precision: \", avg_rouge1_precision)\n",
        "    print(\"Average ROUGE-1 Recall: \", avg_rouge1_recall)\n",
        "    print(\"Average ROUGE-1 F1-Score: \", avg_rouge1_f1)\n",
        "    print(\"Average ROUGE-2 Precision: \", avg_rouge2_precision)\n",
        "    print(\"Average ROUGE-2 Recall: \", avg_rouge2_recall)\n",
        "    print(\"Average ROUGE-2 F1-Score: \", avg_rouge2_f1)\n",
        "    print(\"Average ROUGE-L Precision: \", avg_rougeL_precision)\n",
        "    print(\"Average ROUGE-L Recall: \", avg_rougeL_recall)\n",
        "    print(\"Average ROUGE-L F1-Score: \", avg_rougeL_f1)"
      ],
      "metadata": {
        "id": "g_NXd2qq3EuS"
      },
      "execution_count": null,
      "outputs": []
    },
    {
      "cell_type": "code",
      "source": [
        "def evaluate_summaries_5(news_data):\n",
        "    scorer = rouge_scorer.RougeScorer(rouge_types=['rouge1', 'rouge2', 'rougeL'])\n",
        "    rouge_scores = []\n",
        "\n",
        "    for idx, row in news_data.iterrows():\n",
        "        scores = scorer.score(target=row['preprocessed_text'], prediction=row['predictedSummary_5'])\n",
        "        rouge_scores.append(scores)\n",
        "\n",
        "    avg_rouge1_precision = np.mean([score['rouge1'].precision for score in rouge_scores])\n",
        "    avg_rouge1_recall = np.mean([score['rouge1'].recall for score in rouge_scores])\n",
        "    avg_rouge1_f1 = np.mean([score['rouge1'].fmeasure for score in rouge_scores])\n",
        "\n",
        "    avg_rouge2_precision = np.mean([score['rouge2'].precision for score in rouge_scores])\n",
        "    avg_rouge2_recall = np.mean([score['rouge2'].recall for score in rouge_scores])\n",
        "    avg_rouge2_f1 = np.mean([score['rouge2'].fmeasure for score in rouge_scores])\n",
        "\n",
        "    avg_rougeL_precision = np.mean([score['rougeL'].precision for score in rouge_scores])\n",
        "    avg_rougeL_recall = np.mean([score['rougeL'].recall for score in rouge_scores])\n",
        "    avg_rougeL_f1 = np.mean([score['rougeL'].fmeasure for score in rouge_scores])\n",
        "\n",
        "    print(\"Average ROUGE-1 Precision: \", avg_rouge1_precision)\n",
        "    print(\"Average ROUGE-1 Recall: \", avg_rouge1_recall)\n",
        "    print(\"Average ROUGE-1 F1-Score: \", avg_rouge1_f1)\n",
        "    print(\"Average ROUGE-2 Precision: \", avg_rouge2_precision)\n",
        "    print(\"Average ROUGE-2 Recall: \", avg_rouge2_recall)\n",
        "    print(\"Average ROUGE-2 F1-Score: \", avg_rouge2_f1)\n",
        "    print(\"Average ROUGE-L Precision: \", avg_rougeL_precision)\n",
        "    print(\"Average ROUGE-L Recall: \", avg_rougeL_recall)\n",
        "    print(\"Average ROUGE-L F1-Score: \", avg_rougeL_f1)"
      ],
      "metadata": {
        "id": "55qwPYpP3XsU"
      },
      "execution_count": null,
      "outputs": []
    },
    {
      "cell_type": "code",
      "source": [
        "print(\"Evaluation for the summary of 3 sentences: \\n\")\n",
        "evaluate_summaries_3(news_data)\n",
        "print(\"\\n\")\n",
        "print(\"Evaluation for the summary of 5 sentences: \\n\")\n",
        "evaluate_summaries_5(news_data)"
      ],
      "metadata": {
        "colab": {
          "base_uri": "https://localhost:8080/"
        },
        "id": "DbuDN9LF3c2u",
        "outputId": "71e105ae-5b46-4374-e173-a98469754e2a"
      },
      "execution_count": null,
      "outputs": [
        {
          "output_type": "stream",
          "name": "stdout",
          "text": [
            "Evaluation for the summary of 3 sentences: \n",
            "\n",
            "Average ROUGE-1 Precision:  0.31602691596299876\n",
            "Average ROUGE-1 Recall:  0.3305359114962941\n",
            "Average ROUGE-1 F1-Score:  0.3121011673863618\n",
            "Average ROUGE-2 Precision:  0.10721657244461096\n",
            "Average ROUGE-2 Recall:  0.11312171908637578\n",
            "Average ROUGE-2 F1-Score:  0.1059864920909852\n",
            "Average ROUGE-L Precision:  0.20546140823208367\n",
            "Average ROUGE-L Recall:  0.21182388426528806\n",
            "Average ROUGE-L F1-Score:  0.20094894997070192\n",
            "\n",
            "\n",
            "Evaluation for the summary of 5 sentences: \n",
            "\n",
            "Average ROUGE-1 Precision:  0.28724820351086544\n",
            "Average ROUGE-1 Recall:  0.4706448681567012\n",
            "Average ROUGE-1 F1-Score:  0.34547384483344384\n",
            "Average ROUGE-2 Precision:  0.1147934564335748\n",
            "Average ROUGE-2 Recall:  0.1865170688772358\n",
            "Average ROUGE-2 F1-Score:  0.13696756106167463\n",
            "Average ROUGE-L Precision:  0.18340939007251364\n",
            "Average ROUGE-L Recall:  0.29621744127764577\n",
            "Average ROUGE-L F1-Score:  0.21860605914019293\n"
          ]
        }
      ]
    },
    {
      "cell_type": "markdown",
      "source": [
        "# Rough Work"
      ],
      "metadata": {
        "id": "kjLLTgDzV8Jw"
      }
    },
    {
      "cell_type": "code",
      "source": [
        "# Tokenize text\n",
        "tokenized_texts = [word_tokenize(sent) for sent in sent_tokenize(news_data['preprocessed_ctext'][0])]\n",
        "tokenized_texts"
      ],
      "metadata": {
        "colab": {
          "base_uri": "https://localhost:8080/"
        },
        "id": "e8vUX4rMaPJr",
        "outputId": "35e9494d-1da9-4878-87f3-4e8f8154a980"
      },
      "execution_count": null,
      "outputs": [
        {
          "output_type": "execute_result",
          "data": {
            "text/plain": [
              "[['the',\n",
              "  'daman',\n",
              "  'and',\n",
              "  'diu',\n",
              "  'administration',\n",
              "  'on',\n",
              "  'wednesday',\n",
              "  'withdrew',\n",
              "  'a',\n",
              "  'circular',\n",
              "  'that',\n",
              "  'asked',\n",
              "  'women',\n",
              "  'staff',\n",
              "  'to',\n",
              "  'tie',\n",
              "  'rakhis',\n",
              "  'on',\n",
              "  'male',\n",
              "  'colleagues',\n",
              "  'after',\n",
              "  'the',\n",
              "  'order',\n",
              "  'triggered',\n",
              "  'a',\n",
              "  'backlash',\n",
              "  'from',\n",
              "  'employees',\n",
              "  'and',\n",
              "  'was',\n",
              "  'ripped',\n",
              "  'apart',\n",
              "  'on',\n",
              "  'social',\n",
              "  'media',\n",
              "  '.'],\n",
              " ['the',\n",
              "  'union',\n",
              "  'territorys',\n",
              "  'administration',\n",
              "  'was',\n",
              "  'forced',\n",
              "  'to',\n",
              "  'retreat',\n",
              "  'within',\n",
              "  '24',\n",
              "  'hours',\n",
              "  'of',\n",
              "  'issuing',\n",
              "  'the',\n",
              "  'circular',\n",
              "  'that',\n",
              "  'made',\n",
              "  'it',\n",
              "  'compulsory',\n",
              "  'for',\n",
              "  'its',\n",
              "  'staff',\n",
              "  'to',\n",
              "  'celebrate',\n",
              "  'rakshabandhan',\n",
              "  'at',\n",
              "  'workplace',\n",
              "  '.'],\n",
              " ['it',\n",
              "  'has',\n",
              "  'been',\n",
              "  'decided',\n",
              "  'to',\n",
              "  'celebrate',\n",
              "  'the',\n",
              "  'festival',\n",
              "  'of',\n",
              "  'rakshabandhan',\n",
              "  'on',\n",
              "  'august',\n",
              "  '7',\n",
              "  '.'],\n",
              " ['in',\n",
              "  'this',\n",
              "  'connection',\n",
              "  'all',\n",
              "  'offices',\n",
              "  'departments',\n",
              "  'shall',\n",
              "  'remain',\n",
              "  'open',\n",
              "  'and',\n",
              "  'celebrate',\n",
              "  'the',\n",
              "  'festival',\n",
              "  'collectively',\n",
              "  'at',\n",
              "  'a',\n",
              "  'suitable',\n",
              "  'time',\n",
              "  'wherein',\n",
              "  'all',\n",
              "  'the',\n",
              "  'lady',\n",
              "  'staff',\n",
              "  'shall',\n",
              "  'tie',\n",
              "  'rakhis',\n",
              "  'to',\n",
              "  'their',\n",
              "  'colleagues',\n",
              "  'the',\n",
              "  'order',\n",
              "  'issued',\n",
              "  'on',\n",
              "  'august',\n",
              "  '1',\n",
              "  'by',\n",
              "  'gurpreet',\n",
              "  'singh',\n",
              "  'deputy',\n",
              "  'secretary',\n",
              "  'personnel',\n",
              "  'had',\n",
              "  'said',\n",
              "  '.'],\n",
              " ['to',\n",
              "  'ensure',\n",
              "  'that',\n",
              "  'no',\n",
              "  'one',\n",
              "  'skipped',\n",
              "  'office',\n",
              "  'an',\n",
              "  'attendance',\n",
              "  'report',\n",
              "  'was',\n",
              "  'to',\n",
              "  'be',\n",
              "  'sent',\n",
              "  'to',\n",
              "  'the',\n",
              "  'government',\n",
              "  'the',\n",
              "  'next',\n",
              "  'evening',\n",
              "  '.'],\n",
              " ['the',\n",
              "  'two',\n",
              "  'notifications',\n",
              "  'one',\n",
              "  'mandating',\n",
              "  'the',\n",
              "  'celebration',\n",
              "  'of',\n",
              "  'rakshabandhan',\n",
              "  'left',\n",
              "  'and',\n",
              "  'the',\n",
              "  'other',\n",
              "  'withdrawing',\n",
              "  'the',\n",
              "  'mandate',\n",
              "  'right',\n",
              "  'were',\n",
              "  'issued',\n",
              "  'by',\n",
              "  'the',\n",
              "  'daman',\n",
              "  'and',\n",
              "  'diu',\n",
              "  'administration',\n",
              "  'a',\n",
              "  'day',\n",
              "  'apart',\n",
              "  '.'],\n",
              " ['the',\n",
              "  'circular',\n",
              "  'was',\n",
              "  'withdrawn',\n",
              "  'through',\n",
              "  'a',\n",
              "  'oneline',\n",
              "  'order',\n",
              "  'issued',\n",
              "  'late',\n",
              "  'in',\n",
              "  'the',\n",
              "  'evening',\n",
              "  'by',\n",
              "  'the',\n",
              "  'uts',\n",
              "  'department',\n",
              "  'of',\n",
              "  'personnel',\n",
              "  'and',\n",
              "  'administrative',\n",
              "  'reforms',\n",
              "  '.'],\n",
              " ['the', 'circular', 'is', 'ridiculous', '.'],\n",
              " ['there', 'are', 'sensitivities', 'involved', '.'],\n",
              " ['how',\n",
              "  'can',\n",
              "  'the',\n",
              "  'government',\n",
              "  'dictate',\n",
              "  'who',\n",
              "  'i',\n",
              "  'should',\n",
              "  'tie',\n",
              "  'rakhi',\n",
              "  'to',\n",
              "  'we',\n",
              "  'should',\n",
              "  'maintain',\n",
              "  'the',\n",
              "  'professionalism',\n",
              "  'of',\n",
              "  'a',\n",
              "  'workplace',\n",
              "  'an',\n",
              "  'official',\n",
              "  'told',\n",
              "  'hindustan',\n",
              "  'times',\n",
              "  'earlier',\n",
              "  'in',\n",
              "  'the',\n",
              "  'day',\n",
              "  '.'],\n",
              " ['she', 'refused', 'to', 'be', 'identified', '.'],\n",
              " ['the',\n",
              "  'notice',\n",
              "  'was',\n",
              "  'issued',\n",
              "  'on',\n",
              "  'daman',\n",
              "  'and',\n",
              "  'diu',\n",
              "  'administrator',\n",
              "  'and',\n",
              "  'former',\n",
              "  'gujarat',\n",
              "  'home',\n",
              "  'minister',\n",
              "  'praful',\n",
              "  'kodabhai',\n",
              "  'patels',\n",
              "  'direction',\n",
              "  'sources',\n",
              "  'said',\n",
              "  '.'],\n",
              " ['rakshabandhan',\n",
              "  'a',\n",
              "  'celebration',\n",
              "  'of',\n",
              "  'the',\n",
              "  'bond',\n",
              "  'between',\n",
              "  'brothers',\n",
              "  'and',\n",
              "  'sisters',\n",
              "  'is',\n",
              "  'one',\n",
              "  'of',\n",
              "  'several',\n",
              "  'hindu',\n",
              "  'festivities',\n",
              "  'and',\n",
              "  'rituals',\n",
              "  'that',\n",
              "  'are',\n",
              "  'no',\n",
              "  'longer',\n",
              "  'confined',\n",
              "  'of',\n",
              "  'private',\n",
              "  'family',\n",
              "  'affairs',\n",
              "  'but',\n",
              "  'have',\n",
              "  'become',\n",
              "  'tools',\n",
              "  'to',\n",
              "  'push',\n",
              "  'politic',\n",
              "  'al',\n",
              "  'ideologies',\n",
              "  '.'],\n",
              " ['in',\n",
              "  '2014',\n",
              "  'the',\n",
              "  'year',\n",
              "  'bjp',\n",
              "  'stormed',\n",
              "  'to',\n",
              "  'power',\n",
              "  'at',\n",
              "  'the',\n",
              "  'centre',\n",
              "  'rashtriya',\n",
              "  'swayamsevak',\n",
              "  'sangh',\n",
              "  'rss',\n",
              "  'chief',\n",
              "  'mohan',\n",
              "  'bhagwat',\n",
              "  'said',\n",
              "  'the',\n",
              "  'festival',\n",
              "  'had',\n",
              "  'national',\n",
              "  'significance',\n",
              "  'and',\n",
              "  'should',\n",
              "  'be',\n",
              "  'celebrated',\n",
              "  'widely',\n",
              "  'to',\n",
              "  'protect',\n",
              "  'hindu',\n",
              "  'culture',\n",
              "  'and',\n",
              "  'live',\n",
              "  'by',\n",
              "  'the',\n",
              "  'values',\n",
              "  'enshrined',\n",
              "  'in',\n",
              "  'it',\n",
              "  '.'],\n",
              " ['the',\n",
              "  'rss',\n",
              "  'is',\n",
              "  'the',\n",
              "  'ideological',\n",
              "  'parent',\n",
              "  'of',\n",
              "  'the',\n",
              "  'ruling',\n",
              "  'bjp',\n",
              "  '.'],\n",
              " ['last',\n",
              "  'year',\n",
              "  'women',\n",
              "  'ministers',\n",
              "  'in',\n",
              "  'the',\n",
              "  'modi',\n",
              "  'government',\n",
              "  'went',\n",
              "  'to',\n",
              "  'the',\n",
              "  'border',\n",
              "  'areas',\n",
              "  'to',\n",
              "  'celebrate',\n",
              "  'the',\n",
              "  'festival',\n",
              "  'with',\n",
              "  'soldiers',\n",
              "  '.'],\n",
              " ['a',\n",
              "  'year',\n",
              "  'before',\n",
              "  'all',\n",
              "  'cabinet',\n",
              "  'ministers',\n",
              "  'were',\n",
              "  'asked',\n",
              "  'to',\n",
              "  'go',\n",
              "  'to',\n",
              "  'their',\n",
              "  'constituencies',\n",
              "  'for',\n",
              "  'the',\n",
              "  'festival',\n",
              "  '.']]"
            ]
          },
          "metadata": {},
          "execution_count": 13
        }
      ]
    },
    {
      "cell_type": "code",
      "source": [
        "# Sentence embedding function\n",
        "def sentence_embedding(sentence):\n",
        "    word_embeddings = [glove_model[word] for word in sentence if word in glove_model.key_to_index]\n",
        "    if len(word_embeddings) == 0:\n",
        "        return np.zeros(glove_model.vector_size)\n",
        "    return np.mean(word_embeddings, axis=0)  # You can also try sum instead of mean"
      ],
      "metadata": {
        "id": "747bw9i8wen5"
      },
      "execution_count": null,
      "outputs": []
    },
    {
      "cell_type": "code",
      "source": [
        "sentence_embeddings = np.array([sentence_embedding(sentence) for sentence in tokenized_texts])\n",
        "sentence_embeddings"
      ],
      "metadata": {
        "colab": {
          "base_uri": "https://localhost:8080/"
        },
        "id": "7QKdaFgdwl0s",
        "outputId": "1705ddc1-a1cc-4e3e-ffd8-855362633d35"
      },
      "execution_count": null,
      "outputs": [
        {
          "output_type": "execute_result",
          "data": {
            "text/plain": [
              "array([[-0.04380909, -0.09082867,  0.18125317, ..., -0.12316607,\n",
              "         0.53395194,  0.06034261],\n",
              "       [-0.01150746, -0.06801052,  0.20491797, ..., -0.16314735,\n",
              "         0.5325506 ,  0.08096194],\n",
              "       [-0.0167263 , -0.01593585,  0.22243348, ..., -0.20327693,\n",
              "         0.60671365,  0.08409016],\n",
              "       ...,\n",
              "       [-0.16707925, -0.03983718,  0.4561327 , ..., -0.45501277,\n",
              "         0.5545738 ,  0.2964479 ],\n",
              "       [-0.08643195,  0.0122804 ,  0.26521334, ...,  0.03965085,\n",
              "         0.5447589 ,  0.08598915],\n",
              "       [-0.17723392,  0.07728847,  0.32824934, ..., -0.06450294,\n",
              "         0.6807927 ,  0.06960159]], dtype=float32)"
            ]
          },
          "metadata": {},
          "execution_count": 19
        }
      ]
    },
    {
      "cell_type": "code",
      "source": [
        "len(sentence_embeddings)"
      ],
      "metadata": {
        "colab": {
          "base_uri": "https://localhost:8080/"
        },
        "id": "RnwGEOqzxWcg",
        "outputId": "e0905f10-06bd-4f98-c2fd-cc8885f62efd"
      },
      "execution_count": null,
      "outputs": [
        {
          "output_type": "execute_result",
          "data": {
            "text/plain": [
              "17"
            ]
          },
          "metadata": {},
          "execution_count": 20
        }
      ]
    },
    {
      "cell_type": "code",
      "source": [
        "# Calculate similarity matrix based on sentence embeddings\n",
        "def cosine_similarity_matrix(embeddings):\n",
        "    similarity_matrix = cosine_similarity(embeddings, embeddings)\n",
        "    return similarity_matrix"
      ],
      "metadata": {
        "id": "issW6l1ex1X0"
      },
      "execution_count": null,
      "outputs": []
    },
    {
      "cell_type": "code",
      "source": [
        "similarity_matrix = cosine_similarity_matrix(sentence_embeddings)"
      ],
      "metadata": {
        "id": "qQAqOPUsx5NF"
      },
      "execution_count": null,
      "outputs": []
    },
    {
      "cell_type": "code",
      "source": [
        "similarity_matrix"
      ],
      "metadata": {
        "colab": {
          "base_uri": "https://localhost:8080/"
        },
        "id": "rKdJG8VIyukd",
        "outputId": "b2d9f5d4-4d8b-4ebb-ec47-a2b0ba3a7b27"
      },
      "execution_count": null,
      "outputs": [
        {
          "output_type": "execute_result",
          "data": {
            "text/plain": [
              "array([[1.        , 0.9696266 , 0.94387895, 0.96249056, 0.961668  ,\n",
              "        0.97046554, 0.9654246 , 0.87012523, 0.85056084, 0.95545536,\n",
              "        0.91417015, 0.92672354, 0.9440801 , 0.93899983, 0.8944693 ,\n",
              "        0.96034044, 0.9543654 ],\n",
              "       [0.9696266 , 1.0000001 , 0.95525235, 0.97226185, 0.97376335,\n",
              "        0.9670247 , 0.9714387 , 0.8866603 , 0.8512679 , 0.9615502 ,\n",
              "        0.9068859 , 0.9001034 , 0.94502527, 0.9373632 , 0.89195114,\n",
              "        0.96381354, 0.96420914],\n",
              "       [0.94387895, 0.95525235, 1.0000002 , 0.9596636 , 0.952504  ,\n",
              "        0.9442219 , 0.9348501 , 0.8609182 , 0.84288347, 0.93383986,\n",
              "        0.9018837 , 0.8859077 , 0.9329976 , 0.9488643 , 0.8775196 ,\n",
              "        0.96080804, 0.9583695 ],\n",
              "       [0.96249056, 0.97226185, 0.9596636 , 0.9999999 , 0.9688114 ,\n",
              "        0.9589154 , 0.9634564 , 0.8732775 , 0.87199837, 0.9643351 ,\n",
              "        0.9267743 , 0.92086715, 0.95138025, 0.9483334 , 0.88241124,\n",
              "        0.96559215, 0.97414786],\n",
              "       [0.961668  , 0.97376335, 0.952504  , 0.9688114 , 1.        ,\n",
              "        0.95164484, 0.9510192 , 0.8832649 , 0.84860146, 0.97314733,\n",
              "        0.9430857 , 0.908747  , 0.9357527 , 0.93445104, 0.8846615 ,\n",
              "        0.95941347, 0.96776175],\n",
              "       [0.97046554, 0.9670247 , 0.9442219 , 0.9589154 , 0.95164484,\n",
              "        0.9999999 , 0.96861774, 0.8770885 , 0.85906976, 0.9461953 ,\n",
              "        0.8828114 , 0.91755164, 0.9482988 , 0.93626976, 0.9051032 ,\n",
              "        0.96023935, 0.95974815],\n",
              "       [0.9654246 , 0.9714387 , 0.9348501 , 0.9634564 , 0.9510192 ,\n",
              "        0.96861774, 1.0000002 , 0.8876092 , 0.8226055 , 0.9316274 ,\n",
              "        0.8751599 , 0.9216759 , 0.9249603 , 0.93172216, 0.8902712 ,\n",
              "        0.948535  , 0.938158  ],\n",
              "       [0.87012523, 0.8866603 , 0.8609182 , 0.8732775 , 0.8832649 ,\n",
              "        0.8770885 , 0.8876092 , 0.9999999 , 0.8256786 , 0.8860156 ,\n",
              "        0.82136667, 0.81538326, 0.8773068 , 0.85101515, 0.86413574,\n",
              "        0.841119  , 0.84475267],\n",
              "       [0.85056084, 0.8512679 , 0.84288347, 0.87199837, 0.84860146,\n",
              "        0.85906976, 0.8226055 , 0.8256786 , 0.99999976, 0.8752122 ,\n",
              "        0.86206263, 0.8079056 , 0.9132859 , 0.8403926 , 0.79478616,\n",
              "        0.8496909 , 0.8601205 ],\n",
              "       [0.95545536, 0.9615502 , 0.93383986, 0.9643351 , 0.97314733,\n",
              "        0.9461953 , 0.9316274 , 0.8860156 , 0.8752122 , 1.0000001 ,\n",
              "        0.9284546 , 0.89703834, 0.9489928 , 0.940355  , 0.89273643,\n",
              "        0.94823456, 0.9548717 ],\n",
              "       [0.91417015, 0.9068859 , 0.9018837 , 0.9267743 , 0.9430857 ,\n",
              "        0.8828114 , 0.8751599 , 0.82136667, 0.86206263, 0.9284546 ,\n",
              "        1.        , 0.87345695, 0.8988836 , 0.8798736 , 0.8053026 ,\n",
              "        0.89541644, 0.9156434 ],\n",
              "       [0.92672354, 0.9001034 , 0.8859077 , 0.92086715, 0.908747  ,\n",
              "        0.91755164, 0.9216759 , 0.81538326, 0.8079056 , 0.89703834,\n",
              "        0.87345695, 1.0000001 , 0.88540643, 0.89687794, 0.8364397 ,\n",
              "        0.9074349 , 0.8971451 ],\n",
              "       [0.9440801 , 0.94502527, 0.9329976 , 0.95138025, 0.9357527 ,\n",
              "        0.9482988 , 0.9249603 , 0.8773068 , 0.9132859 , 0.9489928 ,\n",
              "        0.8988836 , 0.88540643, 1.        , 0.94111365, 0.89650697,\n",
              "        0.94302726, 0.94482946],\n",
              "       [0.93899983, 0.9373632 , 0.9488643 , 0.9483334 , 0.93445104,\n",
              "        0.93626976, 0.93172216, 0.85101515, 0.8403926 , 0.940355  ,\n",
              "        0.8798736 , 0.89687794, 0.94111365, 0.9999999 , 0.9283948 ,\n",
              "        0.9558223 , 0.94031227],\n",
              "       [0.8944693 , 0.89195114, 0.8775196 , 0.88241124, 0.8846615 ,\n",
              "        0.9051032 , 0.8902712 , 0.86413574, 0.79478616, 0.89273643,\n",
              "        0.8053026 , 0.8364397 , 0.89650697, 0.9283948 , 1.        ,\n",
              "        0.8815798 , 0.8797247 ],\n",
              "       [0.96034044, 0.96381354, 0.96080804, 0.96559215, 0.95941347,\n",
              "        0.96023935, 0.948535  , 0.841119  , 0.8496909 , 0.94823456,\n",
              "        0.89541644, 0.9074349 , 0.94302726, 0.9558223 , 0.8815798 ,\n",
              "        0.99999976, 0.9740209 ],\n",
              "       [0.9543654 , 0.96420914, 0.9583695 , 0.97414786, 0.96776175,\n",
              "        0.95974815, 0.938158  , 0.84475267, 0.8601205 , 0.9548717 ,\n",
              "        0.9156434 , 0.8971451 , 0.94482946, 0.94031227, 0.8797247 ,\n",
              "        0.9740209 , 0.9999999 ]], dtype=float32)"
            ]
          },
          "metadata": {},
          "execution_count": 23
        }
      ]
    },
    {
      "cell_type": "code",
      "source": [
        "# TextRank function\n",
        "def textrank(similarity_matrix):\n",
        "    damping_factor = 0.85\n",
        "    n_iterations = 250\n",
        "    n_sentences = similarity_matrix.shape[0]\n",
        "    ranks = np.ones(n_sentences) / n_sentences  # Initialize page ranks\n",
        "\n",
        "    for _ in range(n_iterations):\n",
        "        new_ranks = (1 - damping_factor) / n_sentences + damping_factor * similarity_matrix.T.dot(ranks)\n",
        "        ranks = new_ranks\n",
        "    return ranks"
      ],
      "metadata": {
        "id": "VK36sU3Syx8t"
      },
      "execution_count": null,
      "outputs": []
    },
    {
      "cell_type": "code",
      "source": [
        "ranks = textrank(similarity_matrix)"
      ],
      "metadata": {
        "id": "Jg7kqEjdzELn"
      },
      "execution_count": null,
      "outputs": []
    },
    {
      "cell_type": "code",
      "source": [
        "ranks"
      ],
      "metadata": {
        "colab": {
          "base_uri": "https://localhost:8080/"
        },
        "id": "LKleCtMTzHXL",
        "outputId": "1c457fc5-b96d-47e7-8916-ed8a3a534412"
      },
      "execution_count": null,
      "outputs": [
        {
          "output_type": "execute_result",
          "data": {
            "text/plain": [
              "array([5.68263670e+279, 5.69560896e+279, 5.61589075e+279, 5.71164792e+279,\n",
              "       5.68806309e+279, 5.67184756e+279, 5.62744907e+279, 5.24359208e+279,\n",
              "       5.17514934e+279, 5.66557629e+279, 5.41323969e+279, 5.40239951e+279,\n",
              "       5.62651025e+279, 5.59915158e+279, 5.33184871e+279, 5.65966493e+279,\n",
              "       5.66399958e+279])"
            ]
          },
          "metadata": {},
          "execution_count": 26
        }
      ]
    },
    {
      "cell_type": "code",
      "source": [
        "top_sentence_indices = ranks.argsort()[-3:][::-1]\n",
        "predicted_summary = \" \".join([\" \".join(tokenized_texts[i]) for i in sorted(top_sentence_indices)])\n",
        "predicted_summary"
      ],
      "metadata": {
        "colab": {
          "base_uri": "https://localhost:8080/",
          "height": 89
        },
        "id": "FgWclMEMzIWf",
        "outputId": "0793763a-d74c-4dbb-e9ff-696d9ffc3d34"
      },
      "execution_count": null,
      "outputs": [
        {
          "output_type": "execute_result",
          "data": {
            "text/plain": [
              "'the union territorys administration was forced to retreat within 24 hours of issuing the circular that made it compulsory for its staff to celebrate rakshabandhan at workplace . in this connection all offices departments shall remain open and celebrate the festival collectively at a suitable time wherein all the lady staff shall tie rakhis to their colleagues the order issued on august 1 by gurpreet singh deputy secretary personnel had said . to ensure that no one skipped office an attendance report was to be sent to the government the next evening .'"
            ],
            "application/vnd.google.colaboratory.intrinsic+json": {
              "type": "string"
            }
          },
          "metadata": {},
          "execution_count": 28
        }
      ]
    }
  ]
}