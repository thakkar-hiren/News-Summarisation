{
  "nbformat": 4,
  "nbformat_minor": 0,
  "metadata": {
    "colab": {
      "provenance": [],
      "authorship_tag": "ABX9TyPzAHIV8xgB+A+XgwDpmU47",
      "include_colab_link": true
    },
    "kernelspec": {
      "name": "python3",
      "display_name": "Python 3"
    },
    "language_info": {
      "name": "python"
    }
  },
  "cells": [
    {
      "cell_type": "markdown",
      "metadata": {
        "id": "view-in-github",
        "colab_type": "text"
      },
      "source": [
        "<a href=\"https://colab.research.google.com/github/thakkar-hiren/News-Summarisation/blob/main/4_News_Summary.ipynb\" target=\"_parent\"><img src=\"https://colab.research.google.com/assets/colab-badge.svg\" alt=\"Open In Colab\"/></a>"
      ]
    },
    {
      "cell_type": "markdown",
      "source": [
        "#Text Summarization Using Word Embeddings and TextRank Algorithm\n",
        "This file contains an implementation of text summarization using Word Embeddings and the TextRank algorithm. The process begins with loading a dataset containing news articles and preprocessing the text. Word2Vec word embeddings are then trained on the preprocessed corpus to capture semantic relationships between words. The text is tokenized into sentences, and each sentence is embedded into a continuous vector space using the Word2Vec model. Cosine similarity is employed to construct a similarity matrix based on the sentence embeddings. The TextRank algorithm is applied to rank sentences based on their similarity scores, and the top-ranked sentences are selected to form the summary. The number of sentences in the summary is customizable, with options for generating summaries of 3 or 5 sentences. The file includes evaluation functions that compute the average ROUGE (Recall-Oriented Understudy for Gisting Evaluation) scores to assess the quality of the generated summaries. This implementation is suitable for tasks requiring extractive summarization and can be applied in various domains, including document summarization, text analysis, and information retrieval."
      ],
      "metadata": {
        "id": "v54d5DGUu7wM"
      }
    },
    {
      "cell_type": "markdown",
      "source": [
        "# Mounting Drive"
      ],
      "metadata": {
        "id": "MYmRoPw26lTL"
      }
    },
    {
      "cell_type": "code",
      "source": [
        "# Mounting Drive\n",
        "from google.colab import drive\n",
        "drive.mount('/content/drive')"
      ],
      "metadata": {
        "id": "YSM9gSmT6nIW",
        "colab": {
          "base_uri": "https://localhost:8080/"
        },
        "outputId": "00b183b3-6abc-4258-94df-f8dda3c938b7"
      },
      "execution_count": null,
      "outputs": [
        {
          "output_type": "stream",
          "name": "stdout",
          "text": [
            "Mounted at /content/drive\n"
          ]
        }
      ]
    },
    {
      "cell_type": "markdown",
      "source": [
        "# Loading Data"
      ],
      "metadata": {
        "id": "zYgMfyxG9ClV"
      }
    },
    {
      "cell_type": "code",
      "source": [
        "# Loading Dataset\n",
        "import pandas as pd\n",
        "news_data = pd.read_csv('/content/drive/MyDrive/Datasets/filtered_news_data.csv')\n",
        "news_data"
      ],
      "metadata": {
        "id": "7ZQgGBo16tXa",
        "colab": {
          "base_uri": "https://localhost:8080/",
          "height": 1000
        },
        "outputId": "6973c829-2139-4ba3-ea49-60cad2bd4f76"
      },
      "execution_count": null,
      "outputs": [
        {
          "output_type": "execute_result",
          "data": {
            "text/plain": [
              "      Unnamed: 0                                               text  \\\n",
              "0              0  The Administration of Union Territory Daman an...   \n",
              "1              2  The Indira Gandhi Institute of Medical Science...   \n",
              "2              4  Hotels in Maharashtra will train their staff t...   \n",
              "3              5  A 32-year-old man on Wednesday was found hangi...   \n",
              "4              6  The Delhi High Court reduced the compensation ...   \n",
              "...          ...                                                ...   \n",
              "3911        4507  After emerging as the single largest party in ...   \n",
              "3912        4509  Fruit juice concentrate maker Rasna is eyeing ...   \n",
              "3913        4510  Former Indian cricketer Sachin Tendulkar atten...   \n",
              "3914        4512  The Maharashtra government has initiated an in...   \n",
              "3915        4513  At least 400 languages or more than half langu...   \n",
              "\n",
              "                                                  ctext  text_len  ctext_len  \\\n",
              "0     The Daman and Diu administration on Wednesday ...       358       2313   \n",
              "1     The Indira Gandhi Institute of Medical Science...       398       2112   \n",
              "2     Hotels in Mumbai and other Indian cities are t...       366       3249   \n",
              "3     An alleged suspect in a kidnapping case was fo...       347       2247   \n",
              "4     In an interesting ruling, the Delhi high court...       361       2367   \n",
              "...                                                 ...       ...        ...   \n",
              "3911  As uncertainty loomed large in the BMC polls d...       335        606   \n",
              "3912  Mumbai, Feb 23 (PTI) Fruit juice concentrate m...       361       1000   \n",
              "3913  Former cricketer Sachin Tendulkar was spotted ...       362        933   \n",
              "3914  Maharahstra Power Minister Chandrashekhar Bawa...       387       1397   \n",
              "3915  More than half of the languages spoken by Indi...       350       1608   \n",
              "\n",
              "      text_sent_count  text_word_count  ctext_sent_count  ctext_word_count  \\\n",
              "0                   2               62                16               413   \n",
              "1                   3               70                18               379   \n",
              "2                   3               67                 8               569   \n",
              "3                   3               63                23               440   \n",
              "4                   3               70                11               444   \n",
              "...               ...              ...               ...               ...   \n",
              "3911                3               66                 1               115   \n",
              "3912                3               70                 8               200   \n",
              "3913                2               63                 3               158   \n",
              "3914                3               63                 9               233   \n",
              "3915                2               72                 6               297   \n",
              "\n",
              "                                      preprocessed_text  \\\n",
              "0     the administration of union territory daman an...   \n",
              "1     the indira gandhi institute of medical science...   \n",
              "2     hotels in maharashtra will train their staff t...   \n",
              "3     a 32yearold man on wednesday was found hanging...   \n",
              "4     the delhi high court reduced the compensation ...   \n",
              "...                                                 ...   \n",
              "3911  after emerging as the single largest party in ...   \n",
              "3912  fruit juice concentrate maker rasna is eyeing ...   \n",
              "3913  former indian cricketer sachin tendulkar atten...   \n",
              "3914  the maharashtra government has initiated an in...   \n",
              "3915  at least 400 languages or more than half langu...   \n",
              "\n",
              "                                     preprocessed_ctext  \n",
              "0     the daman and diu administration on wednesday ...  \n",
              "1     the indira gandhi institute of medical science...  \n",
              "2     hotels in mumbai and other indian cities are t...  \n",
              "3     an alleged suspect in a kidnapping case was fo...  \n",
              "4     in an interesting ruling the delhi high court ...  \n",
              "...                                                 ...  \n",
              "3911  as uncertainty loomed large in the bmc polls d...  \n",
              "3912  mumbai feb 23 pti fruit juice concentrate make...  \n",
              "3913  former cricketer sachin tendulkar was spotted ...  \n",
              "3914  maharahstra power minister chandrashekhar bawa...  \n",
              "3915  more than half of the languages spoken by indi...  \n",
              "\n",
              "[3916 rows x 11 columns]"
            ],
            "text/html": [
              "\n",
              "  <div id=\"df-70b329ff-0a74-4522-86b1-2d68f183a814\" class=\"colab-df-container\">\n",
              "    <div>\n",
              "<style scoped>\n",
              "    .dataframe tbody tr th:only-of-type {\n",
              "        vertical-align: middle;\n",
              "    }\n",
              "\n",
              "    .dataframe tbody tr th {\n",
              "        vertical-align: top;\n",
              "    }\n",
              "\n",
              "    .dataframe thead th {\n",
              "        text-align: right;\n",
              "    }\n",
              "</style>\n",
              "<table border=\"1\" class=\"dataframe\">\n",
              "  <thead>\n",
              "    <tr style=\"text-align: right;\">\n",
              "      <th></th>\n",
              "      <th>Unnamed: 0</th>\n",
              "      <th>text</th>\n",
              "      <th>ctext</th>\n",
              "      <th>text_len</th>\n",
              "      <th>ctext_len</th>\n",
              "      <th>text_sent_count</th>\n",
              "      <th>text_word_count</th>\n",
              "      <th>ctext_sent_count</th>\n",
              "      <th>ctext_word_count</th>\n",
              "      <th>preprocessed_text</th>\n",
              "      <th>preprocessed_ctext</th>\n",
              "    </tr>\n",
              "  </thead>\n",
              "  <tbody>\n",
              "    <tr>\n",
              "      <th>0</th>\n",
              "      <td>0</td>\n",
              "      <td>The Administration of Union Territory Daman an...</td>\n",
              "      <td>The Daman and Diu administration on Wednesday ...</td>\n",
              "      <td>358</td>\n",
              "      <td>2313</td>\n",
              "      <td>2</td>\n",
              "      <td>62</td>\n",
              "      <td>16</td>\n",
              "      <td>413</td>\n",
              "      <td>the administration of union territory daman an...</td>\n",
              "      <td>the daman and diu administration on wednesday ...</td>\n",
              "    </tr>\n",
              "    <tr>\n",
              "      <th>1</th>\n",
              "      <td>2</td>\n",
              "      <td>The Indira Gandhi Institute of Medical Science...</td>\n",
              "      <td>The Indira Gandhi Institute of Medical Science...</td>\n",
              "      <td>398</td>\n",
              "      <td>2112</td>\n",
              "      <td>3</td>\n",
              "      <td>70</td>\n",
              "      <td>18</td>\n",
              "      <td>379</td>\n",
              "      <td>the indira gandhi institute of medical science...</td>\n",
              "      <td>the indira gandhi institute of medical science...</td>\n",
              "    </tr>\n",
              "    <tr>\n",
              "      <th>2</th>\n",
              "      <td>4</td>\n",
              "      <td>Hotels in Maharashtra will train their staff t...</td>\n",
              "      <td>Hotels in Mumbai and other Indian cities are t...</td>\n",
              "      <td>366</td>\n",
              "      <td>3249</td>\n",
              "      <td>3</td>\n",
              "      <td>67</td>\n",
              "      <td>8</td>\n",
              "      <td>569</td>\n",
              "      <td>hotels in maharashtra will train their staff t...</td>\n",
              "      <td>hotels in mumbai and other indian cities are t...</td>\n",
              "    </tr>\n",
              "    <tr>\n",
              "      <th>3</th>\n",
              "      <td>5</td>\n",
              "      <td>A 32-year-old man on Wednesday was found hangi...</td>\n",
              "      <td>An alleged suspect in a kidnapping case was fo...</td>\n",
              "      <td>347</td>\n",
              "      <td>2247</td>\n",
              "      <td>3</td>\n",
              "      <td>63</td>\n",
              "      <td>23</td>\n",
              "      <td>440</td>\n",
              "      <td>a 32yearold man on wednesday was found hanging...</td>\n",
              "      <td>an alleged suspect in a kidnapping case was fo...</td>\n",
              "    </tr>\n",
              "    <tr>\n",
              "      <th>4</th>\n",
              "      <td>6</td>\n",
              "      <td>The Delhi High Court reduced the compensation ...</td>\n",
              "      <td>In an interesting ruling, the Delhi high court...</td>\n",
              "      <td>361</td>\n",
              "      <td>2367</td>\n",
              "      <td>3</td>\n",
              "      <td>70</td>\n",
              "      <td>11</td>\n",
              "      <td>444</td>\n",
              "      <td>the delhi high court reduced the compensation ...</td>\n",
              "      <td>in an interesting ruling the delhi high court ...</td>\n",
              "    </tr>\n",
              "    <tr>\n",
              "      <th>...</th>\n",
              "      <td>...</td>\n",
              "      <td>...</td>\n",
              "      <td>...</td>\n",
              "      <td>...</td>\n",
              "      <td>...</td>\n",
              "      <td>...</td>\n",
              "      <td>...</td>\n",
              "      <td>...</td>\n",
              "      <td>...</td>\n",
              "      <td>...</td>\n",
              "      <td>...</td>\n",
              "    </tr>\n",
              "    <tr>\n",
              "      <th>3911</th>\n",
              "      <td>4507</td>\n",
              "      <td>After emerging as the single largest party in ...</td>\n",
              "      <td>As uncertainty loomed large in the BMC polls d...</td>\n",
              "      <td>335</td>\n",
              "      <td>606</td>\n",
              "      <td>3</td>\n",
              "      <td>66</td>\n",
              "      <td>1</td>\n",
              "      <td>115</td>\n",
              "      <td>after emerging as the single largest party in ...</td>\n",
              "      <td>as uncertainty loomed large in the bmc polls d...</td>\n",
              "    </tr>\n",
              "    <tr>\n",
              "      <th>3912</th>\n",
              "      <td>4509</td>\n",
              "      <td>Fruit juice concentrate maker Rasna is eyeing ...</td>\n",
              "      <td>Mumbai, Feb 23 (PTI) Fruit juice concentrate m...</td>\n",
              "      <td>361</td>\n",
              "      <td>1000</td>\n",
              "      <td>3</td>\n",
              "      <td>70</td>\n",
              "      <td>8</td>\n",
              "      <td>200</td>\n",
              "      <td>fruit juice concentrate maker rasna is eyeing ...</td>\n",
              "      <td>mumbai feb 23 pti fruit juice concentrate make...</td>\n",
              "    </tr>\n",
              "    <tr>\n",
              "      <th>3913</th>\n",
              "      <td>4510</td>\n",
              "      <td>Former Indian cricketer Sachin Tendulkar atten...</td>\n",
              "      <td>Former cricketer Sachin Tendulkar was spotted ...</td>\n",
              "      <td>362</td>\n",
              "      <td>933</td>\n",
              "      <td>2</td>\n",
              "      <td>63</td>\n",
              "      <td>3</td>\n",
              "      <td>158</td>\n",
              "      <td>former indian cricketer sachin tendulkar atten...</td>\n",
              "      <td>former cricketer sachin tendulkar was spotted ...</td>\n",
              "    </tr>\n",
              "    <tr>\n",
              "      <th>3914</th>\n",
              "      <td>4512</td>\n",
              "      <td>The Maharashtra government has initiated an in...</td>\n",
              "      <td>Maharahstra Power Minister Chandrashekhar Bawa...</td>\n",
              "      <td>387</td>\n",
              "      <td>1397</td>\n",
              "      <td>3</td>\n",
              "      <td>63</td>\n",
              "      <td>9</td>\n",
              "      <td>233</td>\n",
              "      <td>the maharashtra government has initiated an in...</td>\n",
              "      <td>maharahstra power minister chandrashekhar bawa...</td>\n",
              "    </tr>\n",
              "    <tr>\n",
              "      <th>3915</th>\n",
              "      <td>4513</td>\n",
              "      <td>At least 400 languages or more than half langu...</td>\n",
              "      <td>More than half of the languages spoken by Indi...</td>\n",
              "      <td>350</td>\n",
              "      <td>1608</td>\n",
              "      <td>2</td>\n",
              "      <td>72</td>\n",
              "      <td>6</td>\n",
              "      <td>297</td>\n",
              "      <td>at least 400 languages or more than half langu...</td>\n",
              "      <td>more than half of the languages spoken by indi...</td>\n",
              "    </tr>\n",
              "  </tbody>\n",
              "</table>\n",
              "<p>3916 rows × 11 columns</p>\n",
              "</div>\n",
              "    <div class=\"colab-df-buttons\">\n",
              "\n",
              "  <div class=\"colab-df-container\">\n",
              "    <button class=\"colab-df-convert\" onclick=\"convertToInteractive('df-70b329ff-0a74-4522-86b1-2d68f183a814')\"\n",
              "            title=\"Convert this dataframe to an interactive table.\"\n",
              "            style=\"display:none;\">\n",
              "\n",
              "  <svg xmlns=\"http://www.w3.org/2000/svg\" height=\"24px\" viewBox=\"0 -960 960 960\">\n",
              "    <path d=\"M120-120v-720h720v720H120Zm60-500h600v-160H180v160Zm220 220h160v-160H400v160Zm0 220h160v-160H400v160ZM180-400h160v-160H180v160Zm440 0h160v-160H620v160ZM180-180h160v-160H180v160Zm440 0h160v-160H620v160Z\"/>\n",
              "  </svg>\n",
              "    </button>\n",
              "\n",
              "  <style>\n",
              "    .colab-df-container {\n",
              "      display:flex;\n",
              "      gap: 12px;\n",
              "    }\n",
              "\n",
              "    .colab-df-convert {\n",
              "      background-color: #E8F0FE;\n",
              "      border: none;\n",
              "      border-radius: 50%;\n",
              "      cursor: pointer;\n",
              "      display: none;\n",
              "      fill: #1967D2;\n",
              "      height: 32px;\n",
              "      padding: 0 0 0 0;\n",
              "      width: 32px;\n",
              "    }\n",
              "\n",
              "    .colab-df-convert:hover {\n",
              "      background-color: #E2EBFA;\n",
              "      box-shadow: 0px 1px 2px rgba(60, 64, 67, 0.3), 0px 1px 3px 1px rgba(60, 64, 67, 0.15);\n",
              "      fill: #174EA6;\n",
              "    }\n",
              "\n",
              "    .colab-df-buttons div {\n",
              "      margin-bottom: 4px;\n",
              "    }\n",
              "\n",
              "    [theme=dark] .colab-df-convert {\n",
              "      background-color: #3B4455;\n",
              "      fill: #D2E3FC;\n",
              "    }\n",
              "\n",
              "    [theme=dark] .colab-df-convert:hover {\n",
              "      background-color: #434B5C;\n",
              "      box-shadow: 0px 1px 3px 1px rgba(0, 0, 0, 0.15);\n",
              "      filter: drop-shadow(0px 1px 2px rgba(0, 0, 0, 0.3));\n",
              "      fill: #FFFFFF;\n",
              "    }\n",
              "  </style>\n",
              "\n",
              "    <script>\n",
              "      const buttonEl =\n",
              "        document.querySelector('#df-70b329ff-0a74-4522-86b1-2d68f183a814 button.colab-df-convert');\n",
              "      buttonEl.style.display =\n",
              "        google.colab.kernel.accessAllowed ? 'block' : 'none';\n",
              "\n",
              "      async function convertToInteractive(key) {\n",
              "        const element = document.querySelector('#df-70b329ff-0a74-4522-86b1-2d68f183a814');\n",
              "        const dataTable =\n",
              "          await google.colab.kernel.invokeFunction('convertToInteractive',\n",
              "                                                    [key], {});\n",
              "        if (!dataTable) return;\n",
              "\n",
              "        const docLinkHtml = 'Like what you see? Visit the ' +\n",
              "          '<a target=\"_blank\" href=https://colab.research.google.com/notebooks/data_table.ipynb>data table notebook</a>'\n",
              "          + ' to learn more about interactive tables.';\n",
              "        element.innerHTML = '';\n",
              "        dataTable['output_type'] = 'display_data';\n",
              "        await google.colab.output.renderOutput(dataTable, element);\n",
              "        const docLink = document.createElement('div');\n",
              "        docLink.innerHTML = docLinkHtml;\n",
              "        element.appendChild(docLink);\n",
              "      }\n",
              "    </script>\n",
              "  </div>\n",
              "\n",
              "\n",
              "<div id=\"df-ccc2f967-5a6e-4b9f-a7c2-7a8bc8bb48d6\">\n",
              "  <button class=\"colab-df-quickchart\" onclick=\"quickchart('df-ccc2f967-5a6e-4b9f-a7c2-7a8bc8bb48d6')\"\n",
              "            title=\"Suggest charts\"\n",
              "            style=\"display:none;\">\n",
              "\n",
              "<svg xmlns=\"http://www.w3.org/2000/svg\" height=\"24px\"viewBox=\"0 0 24 24\"\n",
              "     width=\"24px\">\n",
              "    <g>\n",
              "        <path d=\"M19 3H5c-1.1 0-2 .9-2 2v14c0 1.1.9 2 2 2h14c1.1 0 2-.9 2-2V5c0-1.1-.9-2-2-2zM9 17H7v-7h2v7zm4 0h-2V7h2v10zm4 0h-2v-4h2v4z\"/>\n",
              "    </g>\n",
              "</svg>\n",
              "  </button>\n",
              "\n",
              "<style>\n",
              "  .colab-df-quickchart {\n",
              "      --bg-color: #E8F0FE;\n",
              "      --fill-color: #1967D2;\n",
              "      --hover-bg-color: #E2EBFA;\n",
              "      --hover-fill-color: #174EA6;\n",
              "      --disabled-fill-color: #AAA;\n",
              "      --disabled-bg-color: #DDD;\n",
              "  }\n",
              "\n",
              "  [theme=dark] .colab-df-quickchart {\n",
              "      --bg-color: #3B4455;\n",
              "      --fill-color: #D2E3FC;\n",
              "      --hover-bg-color: #434B5C;\n",
              "      --hover-fill-color: #FFFFFF;\n",
              "      --disabled-bg-color: #3B4455;\n",
              "      --disabled-fill-color: #666;\n",
              "  }\n",
              "\n",
              "  .colab-df-quickchart {\n",
              "    background-color: var(--bg-color);\n",
              "    border: none;\n",
              "    border-radius: 50%;\n",
              "    cursor: pointer;\n",
              "    display: none;\n",
              "    fill: var(--fill-color);\n",
              "    height: 32px;\n",
              "    padding: 0;\n",
              "    width: 32px;\n",
              "  }\n",
              "\n",
              "  .colab-df-quickchart:hover {\n",
              "    background-color: var(--hover-bg-color);\n",
              "    box-shadow: 0 1px 2px rgba(60, 64, 67, 0.3), 0 1px 3px 1px rgba(60, 64, 67, 0.15);\n",
              "    fill: var(--button-hover-fill-color);\n",
              "  }\n",
              "\n",
              "  .colab-df-quickchart-complete:disabled,\n",
              "  .colab-df-quickchart-complete:disabled:hover {\n",
              "    background-color: var(--disabled-bg-color);\n",
              "    fill: var(--disabled-fill-color);\n",
              "    box-shadow: none;\n",
              "  }\n",
              "\n",
              "  .colab-df-spinner {\n",
              "    border: 2px solid var(--fill-color);\n",
              "    border-color: transparent;\n",
              "    border-bottom-color: var(--fill-color);\n",
              "    animation:\n",
              "      spin 1s steps(1) infinite;\n",
              "  }\n",
              "\n",
              "  @keyframes spin {\n",
              "    0% {\n",
              "      border-color: transparent;\n",
              "      border-bottom-color: var(--fill-color);\n",
              "      border-left-color: var(--fill-color);\n",
              "    }\n",
              "    20% {\n",
              "      border-color: transparent;\n",
              "      border-left-color: var(--fill-color);\n",
              "      border-top-color: var(--fill-color);\n",
              "    }\n",
              "    30% {\n",
              "      border-color: transparent;\n",
              "      border-left-color: var(--fill-color);\n",
              "      border-top-color: var(--fill-color);\n",
              "      border-right-color: var(--fill-color);\n",
              "    }\n",
              "    40% {\n",
              "      border-color: transparent;\n",
              "      border-right-color: var(--fill-color);\n",
              "      border-top-color: var(--fill-color);\n",
              "    }\n",
              "    60% {\n",
              "      border-color: transparent;\n",
              "      border-right-color: var(--fill-color);\n",
              "    }\n",
              "    80% {\n",
              "      border-color: transparent;\n",
              "      border-right-color: var(--fill-color);\n",
              "      border-bottom-color: var(--fill-color);\n",
              "    }\n",
              "    90% {\n",
              "      border-color: transparent;\n",
              "      border-bottom-color: var(--fill-color);\n",
              "    }\n",
              "  }\n",
              "</style>\n",
              "\n",
              "  <script>\n",
              "    async function quickchart(key) {\n",
              "      const quickchartButtonEl =\n",
              "        document.querySelector('#' + key + ' button');\n",
              "      quickchartButtonEl.disabled = true;  // To prevent multiple clicks.\n",
              "      quickchartButtonEl.classList.add('colab-df-spinner');\n",
              "      try {\n",
              "        const charts = await google.colab.kernel.invokeFunction(\n",
              "            'suggestCharts', [key], {});\n",
              "      } catch (error) {\n",
              "        console.error('Error during call to suggestCharts:', error);\n",
              "      }\n",
              "      quickchartButtonEl.classList.remove('colab-df-spinner');\n",
              "      quickchartButtonEl.classList.add('colab-df-quickchart-complete');\n",
              "    }\n",
              "    (() => {\n",
              "      let quickchartButtonEl =\n",
              "        document.querySelector('#df-ccc2f967-5a6e-4b9f-a7c2-7a8bc8bb48d6 button');\n",
              "      quickchartButtonEl.style.display =\n",
              "        google.colab.kernel.accessAllowed ? 'block' : 'none';\n",
              "    })();\n",
              "  </script>\n",
              "</div>\n",
              "\n",
              "  <div id=\"id_b6641d81-7e45-404a-980c-304b53f3209c\">\n",
              "    <style>\n",
              "      .colab-df-generate {\n",
              "        background-color: #E8F0FE;\n",
              "        border: none;\n",
              "        border-radius: 50%;\n",
              "        cursor: pointer;\n",
              "        display: none;\n",
              "        fill: #1967D2;\n",
              "        height: 32px;\n",
              "        padding: 0 0 0 0;\n",
              "        width: 32px;\n",
              "      }\n",
              "\n",
              "      .colab-df-generate:hover {\n",
              "        background-color: #E2EBFA;\n",
              "        box-shadow: 0px 1px 2px rgba(60, 64, 67, 0.3), 0px 1px 3px 1px rgba(60, 64, 67, 0.15);\n",
              "        fill: #174EA6;\n",
              "      }\n",
              "\n",
              "      [theme=dark] .colab-df-generate {\n",
              "        background-color: #3B4455;\n",
              "        fill: #D2E3FC;\n",
              "      }\n",
              "\n",
              "      [theme=dark] .colab-df-generate:hover {\n",
              "        background-color: #434B5C;\n",
              "        box-shadow: 0px 1px 3px 1px rgba(0, 0, 0, 0.15);\n",
              "        filter: drop-shadow(0px 1px 2px rgba(0, 0, 0, 0.3));\n",
              "        fill: #FFFFFF;\n",
              "      }\n",
              "    </style>\n",
              "    <button class=\"colab-df-generate\" onclick=\"generateWithVariable('news_data')\"\n",
              "            title=\"Generate code using this dataframe.\"\n",
              "            style=\"display:none;\">\n",
              "\n",
              "  <svg xmlns=\"http://www.w3.org/2000/svg\" height=\"24px\"viewBox=\"0 0 24 24\"\n",
              "       width=\"24px\">\n",
              "    <path d=\"M7,19H8.4L18.45,9,17,7.55,7,17.6ZM5,21V16.75L18.45,3.32a2,2,0,0,1,2.83,0l1.4,1.43a1.91,1.91,0,0,1,.58,1.4,1.91,1.91,0,0,1-.58,1.4L9.25,21ZM18.45,9,17,7.55Zm-12,3A5.31,5.31,0,0,0,4.9,8.1,5.31,5.31,0,0,0,1,6.5,5.31,5.31,0,0,0,4.9,4.9,5.31,5.31,0,0,0,6.5,1,5.31,5.31,0,0,0,8.1,4.9,5.31,5.31,0,0,0,12,6.5,5.46,5.46,0,0,0,6.5,12Z\"/>\n",
              "  </svg>\n",
              "    </button>\n",
              "    <script>\n",
              "      (() => {\n",
              "      const buttonEl =\n",
              "        document.querySelector('#id_b6641d81-7e45-404a-980c-304b53f3209c button.colab-df-generate');\n",
              "      buttonEl.style.display =\n",
              "        google.colab.kernel.accessAllowed ? 'block' : 'none';\n",
              "\n",
              "      buttonEl.onclick = () => {\n",
              "        google.colab.notebook.generateWithVariable('news_data');\n",
              "      }\n",
              "      })();\n",
              "    </script>\n",
              "  </div>\n",
              "\n",
              "    </div>\n",
              "  </div>\n"
            ],
            "application/vnd.google.colaboratory.intrinsic+json": {
              "type": "dataframe",
              "variable_name": "news_data",
              "summary": "{\n  \"name\": \"news_data\",\n  \"rows\": 3916,\n  \"fields\": [\n    {\n      \"column\": \"Unnamed: 0\",\n      \"properties\": {\n        \"dtype\": \"number\",\n        \"std\": 1297,\n        \"min\": 0,\n        \"max\": 4513,\n        \"samples\": [\n          328,\n          2299,\n          950\n        ],\n        \"num_unique_values\": 3916,\n        \"semantic_type\": \"\",\n        \"description\": \"\"\n      }\n    },\n    {\n      \"column\": \"text\",\n      \"properties\": {\n        \"dtype\": \"string\",\n        \"samples\": [\n          \"Bengaluru was ranked 40th on Dell's annual Women Entrepreneur (WE) Cities Index of the world's top 50 cities that foster the growth of women entrepreneurs. New York topped the list, followed by Bay Area, London, and Boston. The study ranked cities based on the impact of local policies, programmes, and characteristics in addition to national laws and customs.\",\n          \"Indian boxer Vijender Singh's next opponent China's Zulpikar Maimaitiali has said that he is training for over 10 hours a day for the upcoming fight against the Indian. Maimaitiali, the WBO Oriental super middleweight champion, is aiming to hand Vijender the first defeat of his professional boxing career. The fight is scheduled to be held in Mumbai on August 5.\",\n          \"Opposition's Vice Presidential candidate and Mahatma Gandhi's grandson Gopalkrishna Gandhi on Tuesday expressed his stand against death penalty and capital punishments calling them as medieval practices. Gandhi said, \\\"Death penalty is wrong and this is my principle.\\\" Notably, Shiv Sena criticised him for a letter he wrote to the President in 2015, seeking clemency for a 1993 Mumbai blasts accused.\"\n        ],\n        \"num_unique_values\": 3916,\n        \"semantic_type\": \"\",\n        \"description\": \"\"\n      }\n    },\n    {\n      \"column\": \"ctext\",\n      \"properties\": {\n        \"dtype\": \"string\",\n        \"samples\": [\n          \"Virender Sehwag, who was accused of bullying Delhi University student Gurmehar Kaur, said his tweet wasn't intended for the 20-year-old.Sehwag, the only Indian to slam two triple hundreds in Test cricket, told India Today that the TWEET, which turned out to be rather controversial, was a sudden idea and it was not intended to hurt anyone. (Also read: Virender Sehwag, Randeep Hooda accused of bullying Kargil martyr's daughter who spoke against ABVP)\\\"My tweet wasn't intended for Gurmehar. It was plain fun but people construed the other way,\\\" he told India Today. Gurmehar, a student of the Lady Sri Ram College, stirred up a storm when her Facebook post on February 22 went viral.Gurmehar's post received mixed reactions but Sehwag's tweet drew widespread condemnation with some senior journalists accusing him of bullying a young student. Sehwag, known for his wit and candour on social media, tweeted this to express his difference with Gurmehar. Bat me hai Dum !#BharatJaisiJagahNahipic.twitter.com/BNaO1LBHLHActor Randeep Hooda retweeted it and also faced some backlash. However, he later clarfied that he was only laughing at a joke Sehwag had cracked but he condemned the alleged rape threats made to the 20-year-old student. \",\n          \"Pitching for Aam Aadmi Party?s victory in the upcoming municipal elections, Delhi chief minister Arvind Kejriwal said if his party comes to power in MCD then they will make Delhi comparable to London.Addressing a gathering at Uttam Nagar, Kejriwal said the BJP-ruled municipal bodies have not been able to keep Delhi clean.The dates for MCD elections are yet to be announced.?Last time you gave us 67 seats but this time don?t even leave the 3 seats. If we win MCD once, we will change Delhi so much in one year that you will compare Delhi to London,? he said.The CM said that people have the misconception that Delhi is not clean due to AAP government?s failure. ?Wherever I go, people have misconception that garbage is not being picked up and there is no cleaning because of Delhi government. It is not our but MCD?s responsibility,? he said.Kejriwal said the BJP and Congress have been leading the municipal bodies for the last 20 years without doing anything.?They have looted MCD. MCD collects so much money from house tax, hoarding, parking. Last year, Delhi government gave them Rs 2,800 crore. But where is all this money? Why is Delhi not being cleaned? They make the same road thrice on paper and eat all the money,? he said.Kejriwal said his government has been able to do many things in the last two years which the BJP-run governments in Madhya Pradesh and Chhattisgarh have not been able to do in the last 10-15 years.?Before we came to power, the Delhi government had a policy of doing development activity in regularised colonies only. But we changed it. We said it doesn?t matter if the colony is regularised or not, people living there are humans and they need water, sewer, power, and road,? he said.Meanwhile, Congress workers led by former Uttam Nagar legislator Mukesh Sharma protested near the venue where Kejriwal was addressing the gathering. As they tried to show black flags, police stopped the protesters from reaching near the crowd. The protesters then burnt effigy of Kejriwal accusing the AAP government of ?cheating the city residents?. ?All these inaugurations are an eyewash. Incomplete sewer work is being inaugurated just because of the MCD polls. I got the sewerage work started in the area during my tenure,? Sharma said.\",\n          \"Pune, Jul 4 (PTI) Slamming the BJP for the Goods and Services Tax (GST) rollout, senior Congress leader Digvijaya Singh today said the new tax system would not succeed and it would give rise to inflation as well as confusion. \\\"We were in favour of one slab of tax, that is 18 per cent and simple compliance procedure. However, the present structure of the GST they have created, it is certainly going to be an unsuccessful enterprise,\\\" he told reporters here. \\\"Revenue secretary Hasmukh Adhia is an honest man, but they are trying to implement the GST through impractical ways and with this kind of implementation, confusion will be created, which will initially give rise to inflation in the country....The GST will not be successful,\\\" he said. Singh was in the city after visiting Pandharpur in Solapur district in Maharashtra, where lakhs of devotees throng on the occasion of Ashadhi Ekadashi celebrated today. The former Madhya Pradesh chief minister also slammed the ruling BJP saying when it was in the opposition, the party had said that the GST will not be successful in the country, whereas it is now labelling the move as \\\"revolutionary\\\". \\\"Celebrations took place at midnight as if the country has got second freedom,\\\" Singh said. He added that the countries where the GST has become successful, have chosen a single tax slab structure. \\\"PM Modi is saying that it is good and simple tax, but it is not a reality. There are six slabs and petrol and liquor have been kept out of the GST and filing of tax returns have been made so complicated,\\\" he said. \\\"Previously, taxpayers used to file tax returns only four times, but now the same taxpayer will have to file tax 37 times and firms will have to appoint chartered accountants on a permanent basis,\\\" said Singh. \\\"The way demonetisation was implemented without printing of new notes, the same way they have now rolled out the GST without any preparation, as so far the returns formats are not available, there is a lack of infrastructure, such as internet connectivity, in remote areas,\\\" he alleged. Taking a dig at the prime minister, the Congress general secretary said, \\\"Modiji said that in order to eradicate black money, they have brought the GST, but alcohol which is the main source of black money, have been kept out of the GST.\\\" Accusing the BJP and RSS for inciting violence and creating a communal rift in the society, Singh alleged that \\\"targeted lynching\\\" of Muslims is the dangerous thing for the country. \\\"Modi tweets over small issues, but he did not tweet about the farmers, who were killed in firing in Madhya Pradesh. We want a prime minister, who does not have 56 inch chest, but who has a 56 inch heart,\\\" Singh said. Talking about Bihar Chief Minister Nitish Kumar supporting NDAs presidential nominee Ram Nath Kovind, the Congress leader said it was Kumar, who had fist pushed for the the unified oppositions candidate, although he later supported Kovind. While speaking on farmers condition in the country, Singh said demonetisation hit farmers in a big way. \\\"In Maharashtra, the state government announced the farm loan waiver. However, some farmers told me that the government has put a condition that farmers have to clear their outstanding loan, only after which they will get the loan waiver up to Rs 1.5 lakh,\\\" he said. \"\n        ],\n        \"num_unique_values\": 3878,\n        \"semantic_type\": \"\",\n        \"description\": \"\"\n      }\n    },\n    {\n      \"column\": \"text_len\",\n      \"properties\": {\n        \"dtype\": \"number\",\n        \"std\": 24,\n        \"min\": 282,\n        \"max\": 400,\n        \"samples\": [\n          352,\n          361,\n          397\n        ],\n        \"num_unique_values\": 117,\n        \"semantic_type\": \"\",\n        \"description\": \"\"\n      }\n    },\n    {\n      \"column\": \"ctext_len\",\n      \"properties\": {\n        \"dtype\": \"number\",\n        \"std\": 899,\n        \"min\": 4,\n        \"max\": 4792,\n        \"samples\": [\n          1046,\n          3359,\n          2600\n        ],\n        \"num_unique_values\": 2234,\n        \"semantic_type\": \"\",\n        \"description\": \"\"\n      }\n    },\n    {\n      \"column\": \"text_sent_count\",\n      \"properties\": {\n        \"dtype\": \"number\",\n        \"std\": 0,\n        \"min\": 2,\n        \"max\": 5,\n        \"samples\": [\n          3,\n          4,\n          2\n        ],\n        \"num_unique_values\": 4,\n        \"semantic_type\": \"\",\n        \"description\": \"\"\n      }\n    },\n    {\n      \"column\": \"text_word_count\",\n      \"properties\": {\n        \"dtype\": \"number\",\n        \"std\": 3,\n        \"min\": 52,\n        \"max\": 74,\n        \"samples\": [\n          74,\n          57,\n          62\n        ],\n        \"num_unique_values\": 23,\n        \"semantic_type\": \"\",\n        \"description\": \"\"\n      }\n    },\n    {\n      \"column\": \"ctext_sent_count\",\n      \"properties\": {\n        \"dtype\": \"number\",\n        \"std\": 7,\n        \"min\": 1,\n        \"max\": 35,\n        \"samples\": [\n          20,\n          5,\n          26\n        ],\n        \"num_unique_values\": 35,\n        \"semantic_type\": \"\",\n        \"description\": \"\"\n      }\n    },\n    {\n      \"column\": \"ctext_word_count\",\n      \"properties\": {\n        \"dtype\": \"number\",\n        \"std\": 168,\n        \"min\": 1,\n        \"max\": 850,\n        \"samples\": [\n          688,\n          575,\n          254\n        ],\n        \"num_unique_values\": 734,\n        \"semantic_type\": \"\",\n        \"description\": \"\"\n      }\n    },\n    {\n      \"column\": \"preprocessed_text\",\n      \"properties\": {\n        \"dtype\": \"string\",\n        \"samples\": [\n          \"bengaluru was ranked 40th on dells annual women entrepreneur we cities index of the worlds top 50 cities that foster the growth of women entrepreneurs . new york topped the list followed by bay area london and boston . the study ranked cities based on the impact of local policies programmes and characteristics in addition to national laws and customs .\",\n          \"indian boxer vijender singhs next opponent chinas zulpikar maimaitiali has said that he is training for over 10 hours a day for the upcoming fight against the indian . maimaitiali the wbo oriental super middleweight champion is aiming to hand vijender the first defeat of his professional boxing career . the fight is scheduled to be held in mumbai on august 5 .\",\n          \"oppositions vice presidential candidate and mahatma gandhis grandson gopalkrishna gandhi on tuesday expressed his stand against death penalty and capital punishments calling them as medieval practices . gandhi said death penalty is wrong and this is my principle . notably shiv sena criticised him for a letter he wrote to the president in 2015 seeking clemency for a 1993 mumbai blasts accused .\"\n        ],\n        \"num_unique_values\": 3916,\n        \"semantic_type\": \"\",\n        \"description\": \"\"\n      }\n    },\n    {\n      \"column\": \"preprocessed_ctext\",\n      \"properties\": {\n        \"dtype\": \"string\",\n        \"samples\": [\n          \"virender sehwag who was accused of bullying delhi university student gurmehar kaur said his tweet wasnt intended for the 20yearold . sehwag the only indian to slam two triple hundreds in test cricket told india today that the tweet which turned out to be rather controversial was a sudden idea and it was not intended to hurt anyone . also read virender sehwag randeep hooda accused of bullying kargil martyrs daughter who spoke against abvpmy tweet wasnt intended for gurmehar . it was plain fun but people construed the other way he told india today . gurmehar a student of the lady sri ram college stirred up a storm when her facebook post on february 22 went viral . gurmehars post received mixed reactions but sehwags tweet drew widespread condemnation with some senior journalists accusing him of bullying a young student . sehwag known for his wit and candour on social media tweeted this to express his difference with gurmehar . bat me hai dum bharatjaisijagahnahipic . twitter . combnao1lbhlhactor randeep hooda retweeted it and also faced some backlash . however he later clarfied that he was only laughing at a joke sehwag had cracked but he condemned the alleged rape threats made to the 20yearold student .\",\n          \"pitching for aam aadmi partys victory in the upcoming municipal elections delhi chief minister arvind kejriwal said if his party comes to power in mcd then they will make delhi comparable to london . addressing a gathering at uttam nagar kejriwal said the bjpruled municipal bodies have not been able to keep delhi clean . the dates for mcd elections are yet to be announced . last time you gave us 67 seats but this time dont even leave the 3 seats . if we win mcd once we will change delhi so much in one year that you will compare delhi to london he said . the cm said that people have the misconception that delhi is not clean due to aap governments failure . wherever i go people have misconception that garbage is not being picked up and there is no cleaning because of delhi government . it is not our but mcds responsibility he said . kejriwal said the bjp and congress have been leading the municipal bodies for the last 20 years without doing anything . they have looted mcd . mcd collects so much money from house tax hoarding parking . last year delhi government gave them rs 2800 crore . but where is all this money why is delhi not being cleaned they make the same road thrice on paper and eat all the money he said . kejriwal said his government has been able to do many things in the last two years which the bjprun governments in madhya pradesh and chhattisgarh have not been able to do in the last 1015 years . before we came to power the delhi government had a policy of doing development activity in regularised colonies only . but we changed it . we said it doesnt matter if the colony is regularised or not people living there are humans and they need water sewer power and road he said . meanwhile congress workers led by former uttam nagar legislator mukesh sharma protested near the venue where kejriwal was addressing the gathering . as they tried to show black flags police stopped the protesters from reaching near the crowd . the protesters then burnt effigy of kejriwal accusing the aap government of cheating the city residents . all these inaugurations are an eyewash . incomplete sewer work is being inaugurated just because of the mcd polls . i got the sewerage work started in the area during my tenure sharma said .\",\n          \"pune jul 4 pti slamming the bjp for the goods and services tax gst rollout senior congress leader digvijaya singh today said the new tax system would not succeed and it would give rise to inflation as well as confusion . we were in favour of one slab of tax that is 18 per cent and simple compliance procedure . however the present structure of the gst they have created it is certainly going to be an unsuccessful enterprise he told reporters here . revenue secretary hasmukh adhia is an honest man but they are trying to implement the gst through impractical ways and with this kind of implementation confusion will be created which will initially give rise to inflation in the country . . . . the gst will not be successful he said . singh was in the city after visiting pandharpur in solapur district in maharashtra where lakhs of devotees throng on the occasion of ashadhi ekadashi celebrated today . the former madhya pradesh chief minister also slammed the ruling bjp saying when it was in the opposition the party had said that the gst will not be successful in the country whereas it is now labelling the move as revolutionary . celebrations took place at midnight as if the country has got second freedom singh said . he added that the countries where the gst has become successful have chosen a single tax slab structure . pm modi is saying that it is good and simple tax but it is not a reality . there are six slabs and petrol and liquor have been kept out of the gst and filing of tax returns have been made so complicated he said . previously taxpayers used to file tax returns only four times but now the same taxpayer will have to file tax 37 times and firms will have to appoint chartered accountants on a permanent basis said singh . the way demonetisation was implemented without printing of new notes the same way they have now rolled out the gst without any preparation as so far the returns formats are not available there is a lack of infrastructure such as internet connectivity in remote areas he alleged . taking a dig at the prime minister the congress general secretary said modiji said that in order to eradicate black money they have brought the gst but alcohol which is the main source of black money have been kept out of the gst . accusing the bjp and rss for inciting violence and creating a communal rift in the society singh alleged that targeted lynching of muslims is the dangerous thing for the country . modi tweets over small issues but he did not tweet about the farmers who were killed in firing in madhya pradesh . we want a prime minister who does not have 56 inch chest but who has a 56 inch heart singh said . talking about bihar chief minister nitish kumar supporting ndas presidential nominee ram nath kovind the congress leader said it was kumar who had fist pushed for the the unified oppositions candidate although he later supported kovind . while speaking on farmers condition in the country singh said demonetisation hit farmers in a big way . in maharashtra the state government announced the farm loan waiver . however some farmers told me that the government has put a condition that farmers have to clear their outstanding loan only after which they will get the loan waiver up to rs 1 . 5 lakh he said .\"\n        ],\n        \"num_unique_values\": 3878,\n        \"semantic_type\": \"\",\n        \"description\": \"\"\n      }\n    }\n  ]\n}"
            }
          },
          "metadata": {},
          "execution_count": 3
        }
      ]
    },
    {
      "cell_type": "markdown",
      "source": [
        "# Building Model"
      ],
      "metadata": {
        "id": "wH7EKcK69X4d"
      }
    },
    {
      "cell_type": "code",
      "source": [
        "# Importing Important Libraries\n",
        "\n",
        "import numpy as np\n",
        "import nltk\n",
        "from nltk.tokenize import sent_tokenize, word_tokenize\n",
        "from sklearn.metrics.pairwise import cosine_similarity\n",
        "\n",
        "nltk.download('punkt')"
      ],
      "metadata": {
        "colab": {
          "base_uri": "https://localhost:8080/"
        },
        "id": "142QZzp-9IEc",
        "outputId": "65670596-2ae2-4b3a-8188-a26a13ed7323"
      },
      "execution_count": null,
      "outputs": [
        {
          "output_type": "stream",
          "name": "stderr",
          "text": [
            "[nltk_data] Downloading package punkt to /root/nltk_data...\n",
            "[nltk_data]   Unzipping tokenizers/punkt.zip.\n"
          ]
        },
        {
          "output_type": "execute_result",
          "data": {
            "text/plain": [
              "True"
            ]
          },
          "metadata": {},
          "execution_count": 4
        }
      ]
    },
    {
      "cell_type": "code",
      "source": [
        "# Tokenize function\n",
        "def tokenize_text(text):\n",
        "    return [word_tokenize(sent) for sent in sent_tokenize(text)]"
      ],
      "metadata": {
        "id": "YWk-JTK4BbXf"
      },
      "execution_count": null,
      "outputs": []
    },
    {
      "cell_type": "code",
      "source": [
        "# Train Word2Vec model\n",
        "tokenized_corpus = [word_tokenize(article) for article in news_data['preprocessed_ctext']]\n",
        "word2vec_model = Word2Vec(sentences=tokenized_corpus, vector_size=100, window=5, min_count=1, workers=4)"
      ],
      "metadata": {
        "id": "yNO4jrpWB1ZV"
      },
      "execution_count": null,
      "outputs": []
    },
    {
      "cell_type": "code",
      "source": [
        "# Sentence embedding function\n",
        "def sentence_embedding(sentence):\n",
        "    word_embeddings = [word2vec_model.wv[word] for word in sentence if word in word2vec_model.wv]\n",
        "    if len(word_embeddings) == 0:\n",
        "        return np.zeros(word2vec_model.vector_size)\n",
        "    return np.mean(word_embeddings, axis=0)"
      ],
      "metadata": {
        "id": "KB6M7POGB6o-"
      },
      "execution_count": null,
      "outputs": []
    },
    {
      "cell_type": "code",
      "source": [
        "# Calculate similarity matrix based on sentence embeddings\n",
        "def cosine_similarity_matrix(embeddings):\n",
        "    similarity_matrix = cosine_similarity(embeddings, embeddings)\n",
        "    return similarity_matrix"
      ],
      "metadata": {
        "id": "VUvlpYhNCMqr"
      },
      "execution_count": null,
      "outputs": []
    },
    {
      "cell_type": "code",
      "source": [
        "# TextRank function\n",
        "def textrank(similarity_matrix):\n",
        "    damping_factor = 0.85\n",
        "    n_iterations = 500\n",
        "    n_sentences = similarity_matrix.shape[0]\n",
        "    ranks = np.ones(n_sentences) / n_sentences  # Initialize page ranks\n",
        "\n",
        "    for _ in range(n_iterations):\n",
        "        new_ranks = (1 - damping_factor) / n_sentences + damping_factor * similarity_matrix.T.dot(ranks)\n",
        "        ranks = new_ranks\n",
        "    return ranks"
      ],
      "metadata": {
        "id": "VLmGauwJCQlt"
      },
      "execution_count": null,
      "outputs": []
    },
    {
      "cell_type": "code",
      "source": [
        "# Summarization function\n",
        "def summarize_article(article_text, nos=3):\n",
        "    tokenized_sentences = tokenize_text(article_text)\n",
        "    sentence_embeddings = np.array([sentence_embedding(sentence) for sentence in tokenized_sentences])\n",
        "    similarity_matrix = cosine_similarity_matrix(sentence_embeddings)\n",
        "    ranks = textrank(similarity_matrix)\n",
        "\n",
        "    n_summary_sentences = min(nos, len(tokenized_sentences))\n",
        "    top_sentence_indices = ranks.argsort()[-n_summary_sentences:][::-1]\n",
        "    predicted_summary = \" \".join([\" \".join(tokenized_sentences[i]) for i in sorted(top_sentence_indices)])\n",
        "\n",
        "    return predicted_summary"
      ],
      "metadata": {
        "id": "OA0RqA7-CTwB"
      },
      "execution_count": null,
      "outputs": []
    },
    {
      "cell_type": "code",
      "source": [
        "# Apply summarization to each article\n",
        "news_data['predictedSummary_3'] = news_data['preprocessed_ctext'].apply(lambda x: summarize_article(x))"
      ],
      "metadata": {
        "id": "yL4SGf-qCau0"
      },
      "execution_count": null,
      "outputs": []
    },
    {
      "cell_type": "code",
      "source": [
        "# Apply summarization to each article\n",
        "news_data['predictedSummary_5'] = news_data['preprocessed_ctext'].apply(lambda x: summarize_article(x,nos=5))"
      ],
      "metadata": {
        "id": "1s7Ef5jDCe6y"
      },
      "execution_count": null,
      "outputs": []
    },
    {
      "cell_type": "markdown",
      "source": [
        "# Model Evaluation"
      ],
      "metadata": {
        "id": "7Vs6szJgF1nt"
      }
    },
    {
      "cell_type": "code",
      "source": [
        "!pip install rouge_score"
      ],
      "metadata": {
        "colab": {
          "base_uri": "https://localhost:8080/"
        },
        "id": "rm0GfEonF9dx",
        "outputId": "50033397-5cee-4790-e23f-068377ee44a3"
      },
      "execution_count": null,
      "outputs": [
        {
          "output_type": "stream",
          "name": "stdout",
          "text": [
            "Collecting rouge_score\n",
            "  Downloading rouge_score-0.1.2.tar.gz (17 kB)\n",
            "  Preparing metadata (setup.py) ... \u001b[?25l\u001b[?25hdone\n",
            "Requirement already satisfied: absl-py in /usr/local/lib/python3.10/dist-packages (from rouge_score) (1.4.0)\n",
            "Requirement already satisfied: nltk in /usr/local/lib/python3.10/dist-packages (from rouge_score) (3.8.1)\n",
            "Requirement already satisfied: numpy in /usr/local/lib/python3.10/dist-packages (from rouge_score) (1.25.2)\n",
            "Requirement already satisfied: six>=1.14.0 in /usr/local/lib/python3.10/dist-packages (from rouge_score) (1.16.0)\n",
            "Requirement already satisfied: click in /usr/local/lib/python3.10/dist-packages (from nltk->rouge_score) (8.1.7)\n",
            "Requirement already satisfied: joblib in /usr/local/lib/python3.10/dist-packages (from nltk->rouge_score) (1.3.2)\n",
            "Requirement already satisfied: regex>=2021.8.3 in /usr/local/lib/python3.10/dist-packages (from nltk->rouge_score) (2023.12.25)\n",
            "Requirement already satisfied: tqdm in /usr/local/lib/python3.10/dist-packages (from nltk->rouge_score) (4.66.2)\n",
            "Building wheels for collected packages: rouge_score\n",
            "  Building wheel for rouge_score (setup.py) ... \u001b[?25l\u001b[?25hdone\n",
            "  Created wheel for rouge_score: filename=rouge_score-0.1.2-py3-none-any.whl size=24933 sha256=e29d0d716ee211c770ac83d288c1a1742aea2ea480d93337c771c56f056adebe\n",
            "  Stored in directory: /root/.cache/pip/wheels/5f/dd/89/461065a73be61a532ff8599a28e9beef17985c9e9c31e541b4\n",
            "Successfully built rouge_score\n",
            "Installing collected packages: rouge_score\n",
            "Successfully installed rouge_score-0.1.2\n"
          ]
        }
      ]
    },
    {
      "cell_type": "code",
      "source": [
        "# Model evaluation function\n",
        "from rouge_score import rouge_scorer\n",
        "\n",
        "def evaluate_summaries_3(news_data):\n",
        "    scorer = rouge_scorer.RougeScorer(rouge_types=['rouge1', 'rouge2', 'rougeL'])\n",
        "    rouge_scores = []\n",
        "\n",
        "    for idx, row in news_data.iterrows():\n",
        "        scores = scorer.score(target=row['preprocessed_text'], prediction=row['predictedSummary_3'])\n",
        "        rouge_scores.append(scores)\n",
        "\n",
        "    avg_rouge1_precision = np.mean([score['rouge1'].precision for score in rouge_scores])\n",
        "    avg_rouge1_recall = np.mean([score['rouge1'].recall for score in rouge_scores])\n",
        "    avg_rouge1_f1 = np.mean([score['rouge1'].fmeasure for score in rouge_scores])\n",
        "\n",
        "    avg_rouge2_precision = np.mean([score['rouge2'].precision for score in rouge_scores])\n",
        "    avg_rouge2_recall = np.mean([score['rouge2'].recall for score in rouge_scores])\n",
        "    avg_rouge2_f1 = np.mean([score['rouge2'].fmeasure for score in rouge_scores])\n",
        "\n",
        "    avg_rougeL_precision = np.mean([score['rougeL'].precision for score in rouge_scores])\n",
        "    avg_rougeL_recall = np.mean([score['rougeL'].recall for score in rouge_scores])\n",
        "    avg_rougeL_f1 = np.mean([score['rougeL'].fmeasure for score in rouge_scores])\n",
        "\n",
        "    print(\"Average ROUGE-1 Precision: \", avg_rouge1_precision)\n",
        "    print(\"Average ROUGE-1 Recall: \", avg_rouge1_recall)\n",
        "    print(\"Average ROUGE-1 F1-Score: \", avg_rouge1_f1)\n",
        "    print(\"Average ROUGE-2 Precision: \", avg_rouge2_precision)\n",
        "    print(\"Average ROUGE-2 Recall: \", avg_rouge2_recall)\n",
        "    print(\"Average ROUGE-2 F1-Score: \", avg_rouge2_f1)\n",
        "    print(\"Average ROUGE-L Precision: \", avg_rougeL_precision)\n",
        "    print(\"Average ROUGE-L Recall: \", avg_rougeL_recall)\n",
        "    print(\"Average ROUGE-L F1-Score: \", avg_rougeL_f1)"
      ],
      "metadata": {
        "id": "KfiE1F0gC_vP"
      },
      "execution_count": null,
      "outputs": []
    },
    {
      "cell_type": "code",
      "source": [
        "def evaluate_summaries_5(news_data):\n",
        "    scorer = rouge_scorer.RougeScorer(rouge_types=['rouge1', 'rouge2', 'rougeL'])\n",
        "    rouge_scores = []\n",
        "\n",
        "    for idx, row in news_data.iterrows():\n",
        "        scores = scorer.score(target=row['preprocessed_text'], prediction=row['predictedSummary_5'])\n",
        "        rouge_scores.append(scores)\n",
        "\n",
        "    avg_rouge1_precision = np.mean([score['rouge1'].precision for score in rouge_scores])\n",
        "    avg_rouge1_recall = np.mean([score['rouge1'].recall for score in rouge_scores])\n",
        "    avg_rouge1_f1 = np.mean([score['rouge1'].fmeasure for score in rouge_scores])\n",
        "\n",
        "    avg_rouge2_precision = np.mean([score['rouge2'].precision for score in rouge_scores])\n",
        "    avg_rouge2_recall = np.mean([score['rouge2'].recall for score in rouge_scores])\n",
        "    avg_rouge2_f1 = np.mean([score['rouge2'].fmeasure for score in rouge_scores])\n",
        "\n",
        "    avg_rougeL_precision = np.mean([score['rougeL'].precision for score in rouge_scores])\n",
        "    avg_rougeL_recall = np.mean([score['rougeL'].recall for score in rouge_scores])\n",
        "    avg_rougeL_f1 = np.mean([score['rougeL'].fmeasure for score in rouge_scores])\n",
        "\n",
        "    print(\"Average ROUGE-1 Precision: \", avg_rouge1_precision)\n",
        "    print(\"Average ROUGE-1 Recall: \", avg_rouge1_recall)\n",
        "    print(\"Average ROUGE-1 F1-Score: \", avg_rouge1_f1)\n",
        "    print(\"Average ROUGE-2 Precision: \", avg_rouge2_precision)\n",
        "    print(\"Average ROUGE-2 Recall: \", avg_rouge2_recall)\n",
        "    print(\"Average ROUGE-2 F1-Score: \", avg_rouge2_f1)\n",
        "    print(\"Average ROUGE-L Precision: \", avg_rougeL_precision)\n",
        "    print(\"Average ROUGE-L Recall: \", avg_rougeL_recall)\n",
        "    print(\"Average ROUGE-L F1-Score: \", avg_rougeL_f1)"
      ],
      "metadata": {
        "id": "VEpGqbzBGX3u"
      },
      "execution_count": null,
      "outputs": []
    },
    {
      "cell_type": "code",
      "source": [
        "print(\"Evaluation for the summary of 3 sentences: \\n\")\n",
        "evaluate_summaries_3(news_data)\n",
        "print(\"\\n\")\n",
        "print(\"Evaluation for the summary of 5 sentences: \\n\")\n",
        "evaluate_summaries_5(news_data)"
      ],
      "metadata": {
        "colab": {
          "base_uri": "https://localhost:8080/"
        },
        "id": "6vW20iQvGemB",
        "outputId": "8b2aa72c-3533-4401-c84a-0587680ee82c"
      },
      "execution_count": null,
      "outputs": [
        {
          "output_type": "stream",
          "name": "stdout",
          "text": [
            "Evaluation for the summary of 3 sentences: \n",
            "\n",
            "Average ROUGE-1 Precision:  0.31554466757350613\n",
            "Average ROUGE-1 Recall:  0.32987876215131134\n",
            "Average ROUGE-1 F1-Score:  0.31159437019474256\n",
            "Average ROUGE-2 Precision:  0.10658324693814096\n",
            "Average ROUGE-2 Recall:  0.11234937042676994\n",
            "Average ROUGE-2 F1-Score:  0.10532370743191859\n",
            "Average ROUGE-L Precision:  0.20485872139471567\n",
            "Average ROUGE-L Recall:  0.21104750040219733\n",
            "Average ROUGE-L F1-Score:  0.2003123362992979\n",
            "\n",
            "\n",
            "Evaluation for the summary of 5 sentences: \n",
            "\n",
            "Average ROUGE-1 Precision:  0.2872579946333704\n",
            "Average ROUGE-1 Recall:  0.4708750074048507\n",
            "Average ROUGE-1 F1-Score:  0.3455439024952956\n",
            "Average ROUGE-2 Precision:  0.11485351274032472\n",
            "Average ROUGE-2 Recall:  0.18676330106271918\n",
            "Average ROUGE-2 F1-Score:  0.13708012816620416\n",
            "Average ROUGE-L Precision:  0.1834844888123956\n",
            "Average ROUGE-L Recall:  0.29651496659848775\n",
            "Average ROUGE-L F1-Score:  0.21874481235115323\n"
          ]
        }
      ]
    },
    {
      "cell_type": "markdown",
      "source": [
        "# Rough Work"
      ],
      "metadata": {
        "id": "fxopW36tG4Zm"
      }
    },
    {
      "cell_type": "code",
      "source": [
        "# Tokenize text\n",
        "tokenized_texts = [word_tokenize(sent) for sent in sent_tokenize(news_data['preprocessed_ctext'][0])]\n",
        "tokenized_texts"
      ],
      "metadata": {
        "colab": {
          "base_uri": "https://localhost:8080/"
        },
        "id": "rX4jOwsE9p6O",
        "outputId": "3658f8cf-a4a7-4adb-bc0d-4f0d838f6486"
      },
      "execution_count": null,
      "outputs": [
        {
          "output_type": "execute_result",
          "data": {
            "text/plain": [
              "[['the',\n",
              "  'daman',\n",
              "  'and',\n",
              "  'diu',\n",
              "  'administration',\n",
              "  'on',\n",
              "  'wednesday',\n",
              "  'withdrew',\n",
              "  'a',\n",
              "  'circular',\n",
              "  'that',\n",
              "  'asked',\n",
              "  'women',\n",
              "  'staff',\n",
              "  'to',\n",
              "  'tie',\n",
              "  'rakhis',\n",
              "  'on',\n",
              "  'male',\n",
              "  'colleagues',\n",
              "  'after',\n",
              "  'the',\n",
              "  'order',\n",
              "  'triggered',\n",
              "  'a',\n",
              "  'backlash',\n",
              "  'from',\n",
              "  'employees',\n",
              "  'and',\n",
              "  'was',\n",
              "  'ripped',\n",
              "  'apart',\n",
              "  'on',\n",
              "  'social',\n",
              "  'media',\n",
              "  '.'],\n",
              " ['the',\n",
              "  'union',\n",
              "  'territorys',\n",
              "  'administration',\n",
              "  'was',\n",
              "  'forced',\n",
              "  'to',\n",
              "  'retreat',\n",
              "  'within',\n",
              "  '24',\n",
              "  'hours',\n",
              "  'of',\n",
              "  'issuing',\n",
              "  'the',\n",
              "  'circular',\n",
              "  'that',\n",
              "  'made',\n",
              "  'it',\n",
              "  'compulsory',\n",
              "  'for',\n",
              "  'its',\n",
              "  'staff',\n",
              "  'to',\n",
              "  'celebrate',\n",
              "  'rakshabandhan',\n",
              "  'at',\n",
              "  'workplace',\n",
              "  '.'],\n",
              " ['it',\n",
              "  'has',\n",
              "  'been',\n",
              "  'decided',\n",
              "  'to',\n",
              "  'celebrate',\n",
              "  'the',\n",
              "  'festival',\n",
              "  'of',\n",
              "  'rakshabandhan',\n",
              "  'on',\n",
              "  'august',\n",
              "  '7',\n",
              "  '.'],\n",
              " ['in',\n",
              "  'this',\n",
              "  'connection',\n",
              "  'all',\n",
              "  'offices',\n",
              "  'departments',\n",
              "  'shall',\n",
              "  'remain',\n",
              "  'open',\n",
              "  'and',\n",
              "  'celebrate',\n",
              "  'the',\n",
              "  'festival',\n",
              "  'collectively',\n",
              "  'at',\n",
              "  'a',\n",
              "  'suitable',\n",
              "  'time',\n",
              "  'wherein',\n",
              "  'all',\n",
              "  'the',\n",
              "  'lady',\n",
              "  'staff',\n",
              "  'shall',\n",
              "  'tie',\n",
              "  'rakhis',\n",
              "  'to',\n",
              "  'their',\n",
              "  'colleagues',\n",
              "  'the',\n",
              "  'order',\n",
              "  'issued',\n",
              "  'on',\n",
              "  'august',\n",
              "  '1',\n",
              "  'by',\n",
              "  'gurpreet',\n",
              "  'singh',\n",
              "  'deputy',\n",
              "  'secretary',\n",
              "  'personnel',\n",
              "  'had',\n",
              "  'said',\n",
              "  '.'],\n",
              " ['to',\n",
              "  'ensure',\n",
              "  'that',\n",
              "  'no',\n",
              "  'one',\n",
              "  'skipped',\n",
              "  'office',\n",
              "  'an',\n",
              "  'attendance',\n",
              "  'report',\n",
              "  'was',\n",
              "  'to',\n",
              "  'be',\n",
              "  'sent',\n",
              "  'to',\n",
              "  'the',\n",
              "  'government',\n",
              "  'the',\n",
              "  'next',\n",
              "  'evening',\n",
              "  '.'],\n",
              " ['the',\n",
              "  'two',\n",
              "  'notifications',\n",
              "  'one',\n",
              "  'mandating',\n",
              "  'the',\n",
              "  'celebration',\n",
              "  'of',\n",
              "  'rakshabandhan',\n",
              "  'left',\n",
              "  'and',\n",
              "  'the',\n",
              "  'other',\n",
              "  'withdrawing',\n",
              "  'the',\n",
              "  'mandate',\n",
              "  'right',\n",
              "  'were',\n",
              "  'issued',\n",
              "  'by',\n",
              "  'the',\n",
              "  'daman',\n",
              "  'and',\n",
              "  'diu',\n",
              "  'administration',\n",
              "  'a',\n",
              "  'day',\n",
              "  'apart',\n",
              "  '.'],\n",
              " ['the',\n",
              "  'circular',\n",
              "  'was',\n",
              "  'withdrawn',\n",
              "  'through',\n",
              "  'a',\n",
              "  'oneline',\n",
              "  'order',\n",
              "  'issued',\n",
              "  'late',\n",
              "  'in',\n",
              "  'the',\n",
              "  'evening',\n",
              "  'by',\n",
              "  'the',\n",
              "  'uts',\n",
              "  'department',\n",
              "  'of',\n",
              "  'personnel',\n",
              "  'and',\n",
              "  'administrative',\n",
              "  'reforms',\n",
              "  '.'],\n",
              " ['the', 'circular', 'is', 'ridiculous', '.'],\n",
              " ['there', 'are', 'sensitivities', 'involved', '.'],\n",
              " ['how',\n",
              "  'can',\n",
              "  'the',\n",
              "  'government',\n",
              "  'dictate',\n",
              "  'who',\n",
              "  'i',\n",
              "  'should',\n",
              "  'tie',\n",
              "  'rakhi',\n",
              "  'to',\n",
              "  'we',\n",
              "  'should',\n",
              "  'maintain',\n",
              "  'the',\n",
              "  'professionalism',\n",
              "  'of',\n",
              "  'a',\n",
              "  'workplace',\n",
              "  'an',\n",
              "  'official',\n",
              "  'told',\n",
              "  'hindustan',\n",
              "  'times',\n",
              "  'earlier',\n",
              "  'in',\n",
              "  'the',\n",
              "  'day',\n",
              "  '.'],\n",
              " ['she', 'refused', 'to', 'be', 'identified', '.'],\n",
              " ['the',\n",
              "  'notice',\n",
              "  'was',\n",
              "  'issued',\n",
              "  'on',\n",
              "  'daman',\n",
              "  'and',\n",
              "  'diu',\n",
              "  'administrator',\n",
              "  'and',\n",
              "  'former',\n",
              "  'gujarat',\n",
              "  'home',\n",
              "  'minister',\n",
              "  'praful',\n",
              "  'kodabhai',\n",
              "  'patels',\n",
              "  'direction',\n",
              "  'sources',\n",
              "  'said',\n",
              "  '.'],\n",
              " ['rakshabandhan',\n",
              "  'a',\n",
              "  'celebration',\n",
              "  'of',\n",
              "  'the',\n",
              "  'bond',\n",
              "  'between',\n",
              "  'brothers',\n",
              "  'and',\n",
              "  'sisters',\n",
              "  'is',\n",
              "  'one',\n",
              "  'of',\n",
              "  'several',\n",
              "  'hindu',\n",
              "  'festivities',\n",
              "  'and',\n",
              "  'rituals',\n",
              "  'that',\n",
              "  'are',\n",
              "  'no',\n",
              "  'longer',\n",
              "  'confined',\n",
              "  'of',\n",
              "  'private',\n",
              "  'family',\n",
              "  'affairs',\n",
              "  'but',\n",
              "  'have',\n",
              "  'become',\n",
              "  'tools',\n",
              "  'to',\n",
              "  'push',\n",
              "  'politic',\n",
              "  'al',\n",
              "  'ideologies',\n",
              "  '.'],\n",
              " ['in',\n",
              "  '2014',\n",
              "  'the',\n",
              "  'year',\n",
              "  'bjp',\n",
              "  'stormed',\n",
              "  'to',\n",
              "  'power',\n",
              "  'at',\n",
              "  'the',\n",
              "  'centre',\n",
              "  'rashtriya',\n",
              "  'swayamsevak',\n",
              "  'sangh',\n",
              "  'rss',\n",
              "  'chief',\n",
              "  'mohan',\n",
              "  'bhagwat',\n",
              "  'said',\n",
              "  'the',\n",
              "  'festival',\n",
              "  'had',\n",
              "  'national',\n",
              "  'significance',\n",
              "  'and',\n",
              "  'should',\n",
              "  'be',\n",
              "  'celebrated',\n",
              "  'widely',\n",
              "  'to',\n",
              "  'protect',\n",
              "  'hindu',\n",
              "  'culture',\n",
              "  'and',\n",
              "  'live',\n",
              "  'by',\n",
              "  'the',\n",
              "  'values',\n",
              "  'enshrined',\n",
              "  'in',\n",
              "  'it',\n",
              "  '.'],\n",
              " ['the',\n",
              "  'rss',\n",
              "  'is',\n",
              "  'the',\n",
              "  'ideological',\n",
              "  'parent',\n",
              "  'of',\n",
              "  'the',\n",
              "  'ruling',\n",
              "  'bjp',\n",
              "  '.'],\n",
              " ['last',\n",
              "  'year',\n",
              "  'women',\n",
              "  'ministers',\n",
              "  'in',\n",
              "  'the',\n",
              "  'modi',\n",
              "  'government',\n",
              "  'went',\n",
              "  'to',\n",
              "  'the',\n",
              "  'border',\n",
              "  'areas',\n",
              "  'to',\n",
              "  'celebrate',\n",
              "  'the',\n",
              "  'festival',\n",
              "  'with',\n",
              "  'soldiers',\n",
              "  '.'],\n",
              " ['a',\n",
              "  'year',\n",
              "  'before',\n",
              "  'all',\n",
              "  'cabinet',\n",
              "  'ministers',\n",
              "  'were',\n",
              "  'asked',\n",
              "  'to',\n",
              "  'go',\n",
              "  'to',\n",
              "  'their',\n",
              "  'constituencies',\n",
              "  'for',\n",
              "  'the',\n",
              "  'festival',\n",
              "  '.']]"
            ]
          },
          "metadata": {},
          "execution_count": 5
        }
      ]
    },
    {
      "cell_type": "code",
      "source": [
        "from gensim.models import Word2Vec\n",
        "# Train Word2Vec model\n",
        "tokenized_corpus = [word_tokenize(article) for article in news_data['preprocessed_ctext'][0]]\n",
        "word2vec_model = Word2Vec(sentences=tokenized_corpus, vector_size=100, window=5, min_count=1, workers=4)"
      ],
      "metadata": {
        "id": "J-iM1-0u9u4C"
      },
      "execution_count": null,
      "outputs": []
    },
    {
      "cell_type": "code",
      "source": [
        "# Sentence embedding function\n",
        "def sentence_embedding(sentence):\n",
        "    word_embeddings = [word2vec_model.wv[word] for word in sentence if word in word2vec_model.wv]\n",
        "    if len(word_embeddings) == 0:\n",
        "        return np.zeros(word2vec_model.vector_size)\n",
        "    return np.mean(word_embeddings, axis=0)  # You can also try sum instead of mean"
      ],
      "metadata": {
        "id": "e2G-vZBa_PlP"
      },
      "execution_count": null,
      "outputs": []
    },
    {
      "cell_type": "code",
      "source": [
        "sentence_embeddings = np.array([sentence_embedding(sentence) for sentence in tokenized_texts])\n",
        "sentence_embeddings"
      ],
      "metadata": {
        "colab": {
          "base_uri": "https://localhost:8080/"
        },
        "id": "ggG6ymEg_cgB",
        "outputId": "8d20a1c2-e220-4f5a-aaaa-bd0eb213383f"
      },
      "execution_count": null,
      "outputs": [
        {
          "output_type": "execute_result",
          "data": {
            "text/plain": [
              "array([[ 0.00050722,  0.00423183, -0.00121356, ...,  0.00336173,\n",
              "         0.00354513, -0.00345067],\n",
              "       [ 0.00133252,  0.00654086,  0.0099846 , ...,  0.00906   ,\n",
              "        -0.00579077,  0.00368608],\n",
              "       [ 0.00172302,  0.00613801,  0.0039341 , ...,  0.00674994,\n",
              "        -0.00693857, -0.00018685],\n",
              "       ...,\n",
              "       [ 0.00133252,  0.00654086,  0.0099846 , ...,  0.00906   ,\n",
              "        -0.00579077,  0.00368608],\n",
              "       [ 0.00133252,  0.00654086,  0.0099846 , ...,  0.00906   ,\n",
              "        -0.00579077,  0.00368608],\n",
              "       [ 0.00071354,  0.00480909,  0.00158598, ...,  0.00478629,\n",
              "         0.00121116, -0.00166648]], dtype=float32)"
            ]
          },
          "metadata": {},
          "execution_count": 8
        }
      ]
    },
    {
      "cell_type": "code",
      "source": [
        "# Calculate similarity matrix based on sentence embeddings\n",
        "def cosine_similarity_matrix(embeddings):\n",
        "    similarity_matrix = cosine_similarity(embeddings, embeddings)\n",
        "    return similarity_matrix"
      ],
      "metadata": {
        "id": "2Mootf0U_3jx"
      },
      "execution_count": null,
      "outputs": []
    },
    {
      "cell_type": "code",
      "source": [
        "similarity_matrix = cosine_similarity_matrix(sentence_embeddings)"
      ],
      "metadata": {
        "id": "YRGp58_H_sow"
      },
      "execution_count": null,
      "outputs": []
    },
    {
      "cell_type": "code",
      "source": [
        "len(similarity_matrix)"
      ],
      "metadata": {
        "colab": {
          "base_uri": "https://localhost:8080/"
        },
        "id": "iv3uk1nU_7CA",
        "outputId": "5a4c9778-63d2-4c60-b2c6-7f2c6b58e071"
      },
      "execution_count": null,
      "outputs": [
        {
          "output_type": "execute_result",
          "data": {
            "text/plain": [
              "17"
            ]
          },
          "metadata": {},
          "execution_count": 12
        }
      ]
    },
    {
      "cell_type": "code",
      "source": [
        "similarity_matrix"
      ],
      "metadata": {
        "colab": {
          "base_uri": "https://localhost:8080/"
        },
        "id": "6Tqvv8SZ_9tT",
        "outputId": "cb86442f-1576-4c48-e811-8a0e80fc7740"
      },
      "execution_count": null,
      "outputs": [
        {
          "output_type": "execute_result",
          "data": {
            "text/plain": [
              "array([[1.        , 0.4306957 , 0.32566708, 0.78693867, 0.4306957 ,\n",
              "        0.94901186, 0.94901186, 0.4306957 , 0.4306957 , 0.7607797 ,\n",
              "        0.4306957 , 0.4306957 , 0.94901186, 0.4306957 , 0.4306957 ,\n",
              "        0.4306957 , 0.94901186],\n",
              "       [0.4306957 , 0.99999976, 0.66515803, 0.5865928 , 0.99999976,\n",
              "        0.6932388 , 0.6932388 , 0.99999976, 0.99999976, 0.54168797,\n",
              "        0.99999976, 0.99999976, 0.6932388 , 0.99999976, 0.99999976,\n",
              "        0.99999976, 0.6932388 ],\n",
              "       [0.32566708, 0.66515803, 1.        , 0.38877335, 0.66515803,\n",
              "        0.49240652, 0.49240652, 0.66515803, 0.66515803, 0.35651818,\n",
              "        0.66515803, 0.66515803, 0.49240652, 0.66515803, 0.66515803,\n",
              "        0.66515803, 0.49240652],\n",
              "       [0.78693867, 0.5865928 , 0.38877335, 0.9999999 , 0.5865928 ,\n",
              "        0.8333221 , 0.8333221 , 0.5865928 , 0.5865928 , 0.64797264,\n",
              "        0.5865928 , 0.5865928 , 0.8333221 , 0.5865928 , 0.5865928 ,\n",
              "        0.5865928 , 0.8333221 ],\n",
              "       [0.4306957 , 0.99999976, 0.66515803, 0.5865928 , 0.99999976,\n",
              "        0.6932388 , 0.6932388 , 0.99999976, 0.99999976, 0.54168797,\n",
              "        0.99999976, 0.99999976, 0.6932388 , 0.99999976, 0.99999976,\n",
              "        0.99999976, 0.6932388 ],\n",
              "       [0.94901186, 0.6932388 , 0.49240652, 0.8333221 , 0.6932388 ,\n",
              "        0.99999994, 0.99999994, 0.6932388 , 0.6932388 , 0.79674685,\n",
              "        0.6932388 , 0.6932388 , 0.99999994, 0.6932388 , 0.6932388 ,\n",
              "        0.6932388 , 0.99999994],\n",
              "       [0.94901186, 0.6932388 , 0.49240652, 0.8333221 , 0.6932388 ,\n",
              "        0.99999994, 0.99999994, 0.6932388 , 0.6932388 , 0.79674685,\n",
              "        0.6932388 , 0.6932388 , 0.99999994, 0.6932388 , 0.6932388 ,\n",
              "        0.6932388 , 0.99999994],\n",
              "       [0.4306957 , 0.99999976, 0.66515803, 0.5865928 , 0.99999976,\n",
              "        0.6932388 , 0.6932388 , 0.99999976, 0.99999976, 0.54168797,\n",
              "        0.99999976, 0.99999976, 0.6932388 , 0.99999976, 0.99999976,\n",
              "        0.99999976, 0.6932388 ],\n",
              "       [0.4306957 , 0.99999976, 0.66515803, 0.5865928 , 0.99999976,\n",
              "        0.6932388 , 0.6932388 , 0.99999976, 0.99999976, 0.54168797,\n",
              "        0.99999976, 0.99999976, 0.6932388 , 0.99999976, 0.99999976,\n",
              "        0.99999976, 0.6932388 ],\n",
              "       [0.7607797 , 0.54168797, 0.35651818, 0.64797264, 0.54168797,\n",
              "        0.79674685, 0.79674685, 0.54168797, 0.54168797, 0.99999994,\n",
              "        0.54168797, 0.54168797, 0.79674685, 0.54168797, 0.54168797,\n",
              "        0.54168797, 0.79674685],\n",
              "       [0.4306957 , 0.99999976, 0.66515803, 0.5865928 , 0.99999976,\n",
              "        0.6932388 , 0.6932388 , 0.99999976, 0.99999976, 0.54168797,\n",
              "        0.99999976, 0.99999976, 0.6932388 , 0.99999976, 0.99999976,\n",
              "        0.99999976, 0.6932388 ],\n",
              "       [0.4306957 , 0.99999976, 0.66515803, 0.5865928 , 0.99999976,\n",
              "        0.6932388 , 0.6932388 , 0.99999976, 0.99999976, 0.54168797,\n",
              "        0.99999976, 0.99999976, 0.6932388 , 0.99999976, 0.99999976,\n",
              "        0.99999976, 0.6932388 ],\n",
              "       [0.94901186, 0.6932388 , 0.49240652, 0.8333221 , 0.6932388 ,\n",
              "        0.99999994, 0.99999994, 0.6932388 , 0.6932388 , 0.79674685,\n",
              "        0.6932388 , 0.6932388 , 0.99999994, 0.6932388 , 0.6932388 ,\n",
              "        0.6932388 , 0.99999994],\n",
              "       [0.4306957 , 0.99999976, 0.66515803, 0.5865928 , 0.99999976,\n",
              "        0.6932388 , 0.6932388 , 0.99999976, 0.99999976, 0.54168797,\n",
              "        0.99999976, 0.99999976, 0.6932388 , 0.99999976, 0.99999976,\n",
              "        0.99999976, 0.6932388 ],\n",
              "       [0.4306957 , 0.99999976, 0.66515803, 0.5865928 , 0.99999976,\n",
              "        0.6932388 , 0.6932388 , 0.99999976, 0.99999976, 0.54168797,\n",
              "        0.99999976, 0.99999976, 0.6932388 , 0.99999976, 0.99999976,\n",
              "        0.99999976, 0.6932388 ],\n",
              "       [0.4306957 , 0.99999976, 0.66515803, 0.5865928 , 0.99999976,\n",
              "        0.6932388 , 0.6932388 , 0.99999976, 0.99999976, 0.54168797,\n",
              "        0.99999976, 0.99999976, 0.6932388 , 0.99999976, 0.99999976,\n",
              "        0.99999976, 0.6932388 ],\n",
              "       [0.94901186, 0.6932388 , 0.49240652, 0.8333221 , 0.6932388 ,\n",
              "        0.99999994, 0.99999994, 0.6932388 , 0.6932388 , 0.79674685,\n",
              "        0.6932388 , 0.6932388 , 0.99999994, 0.6932388 , 0.6932388 ,\n",
              "        0.6932388 , 0.99999994]], dtype=float32)"
            ]
          },
          "metadata": {},
          "execution_count": 13
        }
      ]
    },
    {
      "cell_type": "code",
      "source": [
        "# TextRank function\n",
        "def textrank(similarity_matrix):\n",
        "    damping_factor = 0.85\n",
        "    n_iterations = 250\n",
        "    n_sentences = similarity_matrix.shape[0]\n",
        "    ranks = np.ones(n_sentences) / n_sentences  # Initialize page ranks\n",
        "\n",
        "    for _ in range(n_iterations):\n",
        "        new_ranks = (1 - damping_factor) / n_sentences + damping_factor * similarity_matrix.T.dot(ranks)\n",
        "        ranks = new_ranks\n",
        "    return ranks"
      ],
      "metadata": {
        "id": "j_Go1jPE__3q"
      },
      "execution_count": null,
      "outputs": []
    },
    {
      "cell_type": "code",
      "source": [
        "ranks = textrank(similarity_matrix)"
      ],
      "metadata": {
        "id": "Idz6zjM1AJn1"
      },
      "execution_count": null,
      "outputs": []
    },
    {
      "cell_type": "code",
      "source": [
        "ranks"
      ],
      "metadata": {
        "colab": {
          "base_uri": "https://localhost:8080/"
        },
        "id": "UVu6Hb4hANys",
        "outputId": "d7f8d4a7-5331-4a1b-837a-85bf3936bafc"
      },
      "execution_count": null,
      "outputs": [
        {
          "output_type": "execute_result",
          "data": {
            "text/plain": [
              "array([1.97876676e+261, 2.74324803e+261, 1.93543359e+261, 2.17602147e+261,\n",
              "       2.74324803e+261, 2.53839601e+261, 2.53839601e+261, 2.74324803e+261,\n",
              "       2.74324803e+261, 2.05209536e+261, 2.74324803e+261, 2.74324803e+261,\n",
              "       2.53839601e+261, 2.74324803e+261, 2.74324803e+261, 2.74324803e+261,\n",
              "       2.53839601e+261])"
            ]
          },
          "metadata": {},
          "execution_count": 34
        }
      ]
    },
    {
      "cell_type": "code",
      "source": [
        "top_sentence_indices = ranks.argsort()[-5:][::-1]\n",
        "predicted_summary = \" \".join([\" \".join(tokenized_texts[i]) for i in sorted(top_sentence_indices)])\n",
        "predicted_summary"
      ],
      "metadata": {
        "colab": {
          "base_uri": "https://localhost:8080/",
          "height": 89
        },
        "id": "MNQ9d8csAPA7",
        "outputId": "e0d43d16-1a4b-45a7-e5ab-5dd3abafd6f1"
      },
      "execution_count": null,
      "outputs": [
        {
          "output_type": "execute_result",
          "data": {
            "text/plain": [
              "'the union territorys administration was forced to retreat within 24 hours of issuing the circular that made it compulsory for its staff to celebrate rakshabandhan at workplace . there are sensitivities involved . the notice was issued on daman and diu administrator and former gujarat home minister praful kodabhai patels direction sources said . in 2014 the year bjp stormed to power at the centre rashtriya swayamsevak sangh rss chief mohan bhagwat said the festival had national significance and should be celebrated widely to protect hindu culture and live by the values enshrined in it . the rss is the ideological parent of the ruling bjp .'"
            ],
            "application/vnd.google.colaboratory.intrinsic+json": {
              "type": "string"
            }
          },
          "metadata": {},
          "execution_count": 36
        }
      ]
    },
    {
      "cell_type": "code",
      "source": [
        "len(predicted_summary.split())"
      ],
      "metadata": {
        "colab": {
          "base_uri": "https://localhost:8080/"
        },
        "id": "sqqTrRydBCEU",
        "outputId": "ba04ea3e-89c6-4668-fb48-3bd7ab34d4d0"
      },
      "execution_count": null,
      "outputs": [
        {
          "output_type": "execute_result",
          "data": {
            "text/plain": [
              "107"
            ]
          },
          "metadata": {},
          "execution_count": 37
        }
      ]
    }
  ]
}